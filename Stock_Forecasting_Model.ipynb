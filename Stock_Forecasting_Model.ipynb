{
  "nbformat": 4,
  "nbformat_minor": 0,
  "metadata": {
    "colab": {
      "name": "Stock_Price_Prediction_Model.ipynb",
      "provenance": [],
      "collapsed_sections": []
    },
    "kernelspec": {
      "name": "python3",
      "display_name": "Python 3"
    }
  },
  "cells": [
    {
      "cell_type": "markdown",
      "metadata": {
        "id": "S_J_gyfkzkWn"
      },
      "source": [
        "**This model is developed by Sarthak Walia, 2nd year MnC student (IIT Goa)**\n",
        "\n",
        "I've used various resources:-\n",
        "https://machinelearningmastery.com/time-series-prediction-with-deep-learning-in-python-with-keras/\n"
      ]
    },
    {
      "cell_type": "markdown",
      "metadata": {
        "id": "E9Rlw1mPqSaF"
      },
      "source": [
        "**Stock Price Prediction**\n",
        "\n",
        "Through out the model, I will be following these steps.\n",
        "\n",
        "*   Stock Data is Collected  of AAPL \"From Yahoo\"\n",
        "*   Preprocess the Data - Train and Test\n",
        "*   Create an stacked LSTM model\n",
        "*   Predict the test data and plot the output\n",
        "*   Predict the future 30 days and plot the output\n",
        "\n",
        "\n",
        "\n",
        "\n",
        "\n",
        "\n",
        "\n",
        "\n",
        "\n",
        "\n",
        "\n",
        "\n"
      ]
    },
    {
      "cell_type": "code",
      "metadata": {
        "id": "IwHw_e73wZOf"
      },
      "source": [
        "# Import the libraries\n",
        "import math\n",
        "import pandas_datareader as web\n",
        "import numpy as np\n",
        "import pandas as pd\n",
        "import tensorflow as tf\n",
        "from sklearn.preprocessing import MinMaxScaler\n",
        "from sklearn.metrics import mean_squared_error\n",
        "from keras.models import Sequential\n",
        "from keras.layers import Dense, LSTM\n",
        "import matplotlib.pyplot as plt\n",
        "plt.style.use('fivethirtyeight')"
      ],
      "execution_count": 2,
      "outputs": []
    },
    {
      "cell_type": "code",
      "metadata": {
        "colab": {
          "base_uri": "https://localhost:8080/",
          "height": 431
        },
        "id": "qffMcxmhLFXZ",
        "outputId": "75a46852-ba48-4ac5-ba40-298640c370f5"
      },
      "source": [
        "#collecting stock data\n",
        "df = web.DataReader('AAPL', data_source='yahoo', start='2012-01-01', end='2019-12-17')\n",
        "df\n"
      ],
      "execution_count": 3,
      "outputs": [
        {
          "output_type": "execute_result",
          "data": {
            "text/html": [
              "<div>\n",
              "<style scoped>\n",
              "    .dataframe tbody tr th:only-of-type {\n",
              "        vertical-align: middle;\n",
              "    }\n",
              "\n",
              "    .dataframe tbody tr th {\n",
              "        vertical-align: top;\n",
              "    }\n",
              "\n",
              "    .dataframe thead th {\n",
              "        text-align: right;\n",
              "    }\n",
              "</style>\n",
              "<table border=\"1\" class=\"dataframe\">\n",
              "  <thead>\n",
              "    <tr style=\"text-align: right;\">\n",
              "      <th></th>\n",
              "      <th>High</th>\n",
              "      <th>Low</th>\n",
              "      <th>Open</th>\n",
              "      <th>Close</th>\n",
              "      <th>Volume</th>\n",
              "      <th>Adj Close</th>\n",
              "    </tr>\n",
              "    <tr>\n",
              "      <th>Date</th>\n",
              "      <th></th>\n",
              "      <th></th>\n",
              "      <th></th>\n",
              "      <th></th>\n",
              "      <th></th>\n",
              "      <th></th>\n",
              "    </tr>\n",
              "  </thead>\n",
              "  <tbody>\n",
              "    <tr>\n",
              "      <th>2012-01-03</th>\n",
              "      <td>14.732143</td>\n",
              "      <td>14.607143</td>\n",
              "      <td>14.621429</td>\n",
              "      <td>14.686786</td>\n",
              "      <td>302220800.0</td>\n",
              "      <td>12.650659</td>\n",
              "    </tr>\n",
              "    <tr>\n",
              "      <th>2012-01-04</th>\n",
              "      <td>14.810000</td>\n",
              "      <td>14.617143</td>\n",
              "      <td>14.642857</td>\n",
              "      <td>14.765714</td>\n",
              "      <td>260022000.0</td>\n",
              "      <td>12.718646</td>\n",
              "    </tr>\n",
              "    <tr>\n",
              "      <th>2012-01-05</th>\n",
              "      <td>14.948214</td>\n",
              "      <td>14.738214</td>\n",
              "      <td>14.819643</td>\n",
              "      <td>14.929643</td>\n",
              "      <td>271269600.0</td>\n",
              "      <td>12.859850</td>\n",
              "    </tr>\n",
              "    <tr>\n",
              "      <th>2012-01-06</th>\n",
              "      <td>15.098214</td>\n",
              "      <td>14.972143</td>\n",
              "      <td>14.991786</td>\n",
              "      <td>15.085714</td>\n",
              "      <td>318292800.0</td>\n",
              "      <td>12.994284</td>\n",
              "    </tr>\n",
              "    <tr>\n",
              "      <th>2012-01-09</th>\n",
              "      <td>15.276786</td>\n",
              "      <td>15.048214</td>\n",
              "      <td>15.196429</td>\n",
              "      <td>15.061786</td>\n",
              "      <td>394024400.0</td>\n",
              "      <td>12.973674</td>\n",
              "    </tr>\n",
              "    <tr>\n",
              "      <th>...</th>\n",
              "      <td>...</td>\n",
              "      <td>...</td>\n",
              "      <td>...</td>\n",
              "      <td>...</td>\n",
              "      <td>...</td>\n",
              "      <td>...</td>\n",
              "    </tr>\n",
              "    <tr>\n",
              "      <th>2019-12-11</th>\n",
              "      <td>67.775002</td>\n",
              "      <td>67.125000</td>\n",
              "      <td>67.202499</td>\n",
              "      <td>67.692497</td>\n",
              "      <td>78756800.0</td>\n",
              "      <td>67.012764</td>\n",
              "    </tr>\n",
              "    <tr>\n",
              "      <th>2019-12-12</th>\n",
              "      <td>68.139999</td>\n",
              "      <td>66.830002</td>\n",
              "      <td>66.945000</td>\n",
              "      <td>67.864998</td>\n",
              "      <td>137310400.0</td>\n",
              "      <td>67.183548</td>\n",
              "    </tr>\n",
              "    <tr>\n",
              "      <th>2019-12-13</th>\n",
              "      <td>68.824997</td>\n",
              "      <td>67.732498</td>\n",
              "      <td>67.864998</td>\n",
              "      <td>68.787498</td>\n",
              "      <td>133587600.0</td>\n",
              "      <td>68.096771</td>\n",
              "    </tr>\n",
              "    <tr>\n",
              "      <th>2019-12-16</th>\n",
              "      <td>70.197502</td>\n",
              "      <td>69.245003</td>\n",
              "      <td>69.250000</td>\n",
              "      <td>69.964996</td>\n",
              "      <td>128186000.0</td>\n",
              "      <td>69.262459</td>\n",
              "    </tr>\n",
              "    <tr>\n",
              "      <th>2019-12-17</th>\n",
              "      <td>70.442497</td>\n",
              "      <td>69.699997</td>\n",
              "      <td>69.892502</td>\n",
              "      <td>70.102501</td>\n",
              "      <td>114158400.0</td>\n",
              "      <td>69.398575</td>\n",
              "    </tr>\n",
              "  </tbody>\n",
              "</table>\n",
              "<p>2003 rows × 6 columns</p>\n",
              "</div>"
            ],
            "text/plain": [
              "                 High        Low       Open      Close       Volume  Adj Close\n",
              "Date                                                                          \n",
              "2012-01-03  14.732143  14.607143  14.621429  14.686786  302220800.0  12.650659\n",
              "2012-01-04  14.810000  14.617143  14.642857  14.765714  260022000.0  12.718646\n",
              "2012-01-05  14.948214  14.738214  14.819643  14.929643  271269600.0  12.859850\n",
              "2012-01-06  15.098214  14.972143  14.991786  15.085714  318292800.0  12.994284\n",
              "2012-01-09  15.276786  15.048214  15.196429  15.061786  394024400.0  12.973674\n",
              "...               ...        ...        ...        ...          ...        ...\n",
              "2019-12-11  67.775002  67.125000  67.202499  67.692497   78756800.0  67.012764\n",
              "2019-12-12  68.139999  66.830002  66.945000  67.864998  137310400.0  67.183548\n",
              "2019-12-13  68.824997  67.732498  67.864998  68.787498  133587600.0  68.096771\n",
              "2019-12-16  70.197502  69.245003  69.250000  69.964996  128186000.0  69.262459\n",
              "2019-12-17  70.442497  69.699997  69.892502  70.102501  114158400.0  69.398575\n",
              "\n",
              "[2003 rows x 6 columns]"
            ]
          },
          "metadata": {
            "tags": []
          },
          "execution_count": 3
        }
      ]
    },
    {
      "cell_type": "code",
      "metadata": {
        "colab": {
          "base_uri": "https://localhost:8080/"
        },
        "id": "fv7RWJiwLypg",
        "outputId": "b79444a8-c991-4cca-fa06-014f8b7d4638"
      },
      "source": [
        "df.shape"
      ],
      "execution_count": 4,
      "outputs": [
        {
          "output_type": "execute_result",
          "data": {
            "text/plain": [
              "(2003, 6)"
            ]
          },
          "metadata": {
            "tags": []
          },
          "execution_count": 4
        }
      ]
    },
    {
      "cell_type": "code",
      "metadata": {
        "colab": {
          "base_uri": "https://localhost:8080/",
          "height": 299
        },
        "id": "Kqk9uO9kMph8",
        "outputId": "4c2827bb-39ab-452f-cf8c-661b72a06527"
      },
      "source": [
        "#plot of closing price stock\n",
        "plt.plot(df['Close'])"
      ],
      "execution_count": 5,
      "outputs": [
        {
          "output_type": "execute_result",
          "data": {
            "text/plain": [
              "[<matplotlib.lines.Line2D at 0x7f625911ca50>]"
            ]
          },
          "metadata": {
            "tags": []
          },
          "execution_count": 5
        },
        {
          "output_type": "display_data",
          "data": {
            "image/png": "[encoded data removed]",
            "text/plain": [
              "<Figure size 432x288 with 1 Axes>"
            ]
          },
          "metadata": {
            "tags": []
          }
        }
      ]
    },
    {
      "cell_type": "code",
      "metadata": {
        "colab": {
          "base_uri": "https://localhost:8080/"
        },
        "id": "-JFWJVpFNWwd",
        "outputId": "b6d454de-be1f-42c1-e29c-0fb57ba8d77c"
      },
      "source": [
        "#collecting value of 'Close' column from data\n",
        "df1=df.reset_index()['Close']\n",
        "df1"
      ],
      "execution_count": 6,
      "outputs": [
        {
          "output_type": "execute_result",
          "data": {
            "text/plain": [
              "0       14.686786\n",
              "1       14.765714\n",
              "2       14.929643\n",
              "3       15.085714\n",
              "4       15.061786\n",
              "          ...    \n",
              "1998    67.692497\n",
              "1999    67.864998\n",
              "2000    68.787498\n",
              "2001    69.964996\n",
              "2002    70.102501\n",
              "Name: Close, Length: 2003, dtype: float64"
            ]
          },
          "metadata": {
            "tags": []
          },
          "execution_count": 6
        }
      ]
    },
    {
      "cell_type": "code",
      "metadata": {
        "colab": {
          "base_uri": "https://localhost:8080/"
        },
        "id": "XZY-S-JmOGbt",
        "outputId": "1c4aaba6-46db-44f4-a963-f8f9bec72fae"
      },
      "source": [
        "df1.shape"
      ],
      "execution_count": 7,
      "outputs": [
        {
          "output_type": "execute_result",
          "data": {
            "text/plain": [
              "(2003,)"
            ]
          },
          "metadata": {
            "tags": []
          },
          "execution_count": 7
        }
      ]
    },
    {
      "cell_type": "code",
      "metadata": {
        "id": "3RG2LwHFOwfZ"
      },
      "source": [
        "df1=np.array(df1).reshape(-1,1)"
      ],
      "execution_count": 8,
      "outputs": []
    },
    {
      "cell_type": "code",
      "metadata": {
        "colab": {
          "base_uri": "https://localhost:8080/"
        },
        "id": "Plwij3uSPbav",
        "outputId": "a318957e-164d-435f-b57a-e4785dc596fa"
      },
      "source": [
        "df1.shape"
      ],
      "execution_count": 9,
      "outputs": [
        {
          "output_type": "execute_result",
          "data": {
            "text/plain": [
              "(2003, 1)"
            ]
          },
          "metadata": {
            "tags": []
          },
          "execution_count": 9
        }
      ]
    },
    {
      "cell_type": "code",
      "metadata": {
        "colab": {
          "base_uri": "https://localhost:8080/"
        },
        "id": "ASiYuu6CPrH6",
        "outputId": "a379ca4b-3420-46ec-9222-8ecee27d26f2"
      },
      "source": [
        "df1"
      ],
      "execution_count": 10,
      "outputs": [
        {
          "output_type": "execute_result",
          "data": {
            "text/plain": [
              "array([[14.6867857 ],\n",
              "       [14.76571369],\n",
              "       [14.92964268],\n",
              "       ...,\n",
              "       [68.78749847],\n",
              "       [69.96499634],\n",
              "       [70.10250092]])"
            ]
          },
          "metadata": {
            "tags": []
          },
          "execution_count": 10
        }
      ]
    },
    {
      "cell_type": "markdown",
      "metadata": {
        "id": "EBZt3AMO40_c"
      },
      "source": [
        "**MinMax Scaler**\n",
        "\n",
        "Here,I'm using MinMax Scaler function to scale the value in between 0 to 1.\n",
        "\n",
        "\\begin{align*}\n",
        "x'={\\frac  {x-{\\text{min}}(x)}{{\\text{max}}(x)-{\\text{min}}(x)}}\n",
        "\\end{align*}"
      ]
    },
    {
      "cell_type": "code",
      "metadata": {
        "id": "UtS8OxVcON8C"
      },
      "source": [
        "#Transforming value from 0 to 1 \n",
        "scalar=MinMaxScaler(feature_range=(0,1))\n",
        "df1=scalar.fit_transform(df1)\n"
      ],
      "execution_count": 11,
      "outputs": []
    },
    {
      "cell_type": "code",
      "metadata": {
        "colab": {
          "base_uri": "https://localhost:8080/"
        },
        "id": "ACikB_xbPy9W",
        "outputId": "02cf8f32-1d02-4590-9423-626d63f42389"
      },
      "source": [
        "df1"
      ],
      "execution_count": 12,
      "outputs": [
        {
          "output_type": "execute_result",
          "data": {
            "text/plain": [
              "array([[0.01316509],\n",
              "       [0.01457063],\n",
              "       [0.01748985],\n",
              "       ...,\n",
              "       [0.97658263],\n",
              "       [0.99755134],\n",
              "       [1.        ]])"
            ]
          },
          "metadata": {
            "tags": []
          },
          "execution_count": 12
        }
      ]
    },
    {
      "cell_type": "markdown",
      "metadata": {
        "id": "tWKnzHxy66ss"
      },
      "source": [
        "**Preprocessing of data**\n",
        "\n",
        "*   Dividing into test and train\n",
        "\n",
        "\n"
      ]
    },
    {
      "cell_type": "code",
      "metadata": {
        "id": "HQnCkF4XPz-Q"
      },
      "source": [
        "# split b/w test data and train data\n",
        "training_size=int(len(df1)*0.65)\n",
        "test_size=len(df1)-training_size\n",
        "train_data, test_data=df1[0:training_size,:],df1[training_size:len(df1),:1]\n",
        "\n"
      ],
      "execution_count": 13,
      "outputs": []
    },
    {
      "cell_type": "code",
      "metadata": {
        "colab": {
          "base_uri": "https://localhost:8080/"
        },
        "id": "tu0z4nwUR-i1",
        "outputId": "9a124715-1a0c-44d5-b8cd-d638e6a465cf"
      },
      "source": [
        "train_data.shape"
      ],
      "execution_count": 14,
      "outputs": [
        {
          "output_type": "execute_result",
          "data": {
            "text/plain": [
              "(1301, 1)"
            ]
          },
          "metadata": {
            "tags": []
          },
          "execution_count": 14
        }
      ]
    },
    {
      "cell_type": "code",
      "metadata": {
        "colab": {
          "base_uri": "https://localhost:8080/"
        },
        "id": "c6eM7dUoW9b6",
        "outputId": "3994e4ba-f724-4bed-ddcf-9db577ecee33"
      },
      "source": [
        "test_data.shape"
      ],
      "execution_count": 15,
      "outputs": [
        {
          "output_type": "execute_result",
          "data": {
            "text/plain": [
              "(702, 1)"
            ]
          },
          "metadata": {
            "tags": []
          },
          "execution_count": 15
        }
      ]
    },
    {
      "cell_type": "code",
      "metadata": {
        "id": "mFd_4jdIW_ID"
      },
      "source": [
        "# Timeseries data  ..PreProcessing of data , converting array into dataset matrix\n",
        "\n",
        "def create_data (data, time_step=1):\n",
        "  data1,data2= [], []\n",
        "  for i in range(len(data)-time_step-1):\n",
        "    a = data[i:(i+time_step),0]         #for i=0,     0,1,2,3,4,--------99   100\n",
        "    data1.append(a)\n",
        "    data2.append(data[i+time_step,0])\n",
        "  return np.array(data1), np.array(data2)\n",
        "  "
      ],
      "execution_count": 16,
      "outputs": []
    },
    {
      "cell_type": "code",
      "metadata": {
        "id": "jxfFvohlh4z2"
      },
      "source": [
        "# reshape into \n",
        "\n",
        "time_step=100    # giving 100 features for output.\n",
        "x_train, y_train= create_data(train_data,time_step)\n",
        "x_test, y_test =create_data(test_data,time_step)"
      ],
      "execution_count": 17,
      "outputs": []
    },
    {
      "cell_type": "code",
      "metadata": {
        "colab": {
          "base_uri": "https://localhost:8080/"
        },
        "id": "NNTy20nXiMNh",
        "outputId": "01afa2b6-b39c-443c-d8f3-c88b2dffb8b5"
      },
      "source": [
        "x_train.shape"
      ],
      "execution_count": 18,
      "outputs": [
        {
          "output_type": "execute_result",
          "data": {
            "text/plain": [
              "(1200, 100)"
            ]
          },
          "metadata": {
            "tags": []
          },
          "execution_count": 18
        }
      ]
    },
    {
      "cell_type": "code",
      "metadata": {
        "colab": {
          "base_uri": "https://localhost:8080/"
        },
        "id": "rgiflqj3iNzW",
        "outputId": "df7b4971-1730-4084-9a26-f9e6934eb5a3"
      },
      "source": [
        "y_train"
      ],
      "execution_count": 19,
      "outputs": [
        {
          "output_type": "execute_result",
          "data": {
            "text/plain": [
              "array([0.10923845, 0.11558567, 0.11997404, ..., 0.37396488, 0.37026981,\n",
              "       0.37392038])"
            ]
          },
          "metadata": {
            "tags": []
          },
          "execution_count": 19
        }
      ]
    },
    {
      "cell_type": "code",
      "metadata": {
        "colab": {
          "base_uri": "https://localhost:8080/"
        },
        "id": "ttCf-hFtitVq",
        "outputId": "0fc645d8-54c7-44d7-96b8-8ab8e87a6e4b"
      },
      "source": [
        " x_test.shape"
      ],
      "execution_count": 20,
      "outputs": [
        {
          "output_type": "execute_result",
          "data": {
            "text/plain": [
              "(601, 100)"
            ]
          },
          "metadata": {
            "tags": []
          },
          "execution_count": 20
        }
      ]
    },
    {
      "cell_type": "code",
      "metadata": {
        "colab": {
          "base_uri": "https://localhost:8080/"
        },
        "id": "daOo9_Dciu94",
        "outputId": "8b86fb85-adc2-46fb-9064-3f94b9f0b732"
      },
      "source": [
        "y_test.shape"
      ],
      "execution_count": 21,
      "outputs": [
        {
          "output_type": "execute_result",
          "data": {
            "text/plain": [
              "(601,)"
            ]
          },
          "metadata": {
            "tags": []
          },
          "execution_count": 21
        }
      ]
    },
    {
      "cell_type": "code",
      "metadata": {
        "id": "OWg-5v6dtx3_"
      },
      "source": [
        "# reshape inputs as [samples, time steps, features] which is required for LSTM Model\n",
        "x_train=x_train.reshape(x_train.shape[0],x_train.shape[1],1)\n",
        "x_test=x_test.reshape(x_test.shape[0],x_test.shape[1],1)\n"
      ],
      "execution_count": 22,
      "outputs": []
    },
    {
      "cell_type": "markdown",
      "metadata": {
        "id": "4P-9lOyLLoro"
      },
      "source": [
        "**Creating a LSTM Model**"
      ]
    },
    {
      "cell_type": "code",
      "metadata": {
        "id": "_yDBZok8jAgY"
      },
      "source": [
        "# creating the LSTM model\n",
        "model=Sequential()\n",
        "model.add(LSTM(50,return_sequences=True,input_shape=(100,1)))\n",
        "model.add(LSTM(50,return_sequences=True))\n",
        "model.add(LSTM(50))\n",
        "model.add(Dense(1))\n",
        "model.compile(loss='mean_squared_error',optimizer='adam')"
      ],
      "execution_count": 23,
      "outputs": []
    },
    {
      "cell_type": "code",
      "metadata": {
        "colab": {
          "base_uri": "https://localhost:8080/"
        },
        "id": "DaiHcMUPi04Y",
        "outputId": "43008f68-bada-4cc3-9e0a-0cd13e753dd4"
      },
      "source": [
        "model.summary()"
      ],
      "execution_count": 24,
      "outputs": [
        {
          "output_type": "stream",
          "text": [
            "Model: \"sequential\"\n",
            "_________________________________________________________________\n",
            "Layer (type)                 Output Shape              Param #   \n",
            "=================================================================\n",
            "lstm (LSTM)                  (None, 100, 50)           10400     \n",
            "_________________________________________________________________\n",
            "lstm_1 (LSTM)                (None, 100, 50)           20200     \n",
            "_________________________________________________________________\n",
            "lstm_2 (LSTM)                (None, 50)                20200     \n",
            "_________________________________________________________________\n",
            "dense (Dense)                (None, 1)                 51        \n",
            "=================================================================\n",
            "Total params: 50,851\n",
            "Trainable params: 50,851\n",
            "Non-trainable params: 0\n",
            "_________________________________________________________________\n"
          ],
          "name": "stdout"
        }
      ]
    },
    {
      "cell_type": "code",
      "metadata": {
        "colab": {
          "base_uri": "https://localhost:8080/"
        },
        "id": "Ai2oWuH1i5sb",
        "outputId": "f2c44a67-6014-4b3d-f040-f1cd110b1d9b"
      },
      "source": [
        "model.fit(x_train,y_train,validation_data=(x_test,y_test),epochs=100,batch_size=64,verbose=1)"
      ],
      "execution_count": 25,
      "outputs": [
        {
          "output_type": "stream",
          "text": [
            "Epoch 1/100\n",
            "19/19 [==============================] - 10s 258ms/step - loss: 0.0105 - val_loss: 0.0059\n",
            "Epoch 2/100\n",
            "19/19 [==============================] - 3s 182ms/step - loss: 0.0013 - val_loss: 0.0020\n",
            "Epoch 3/100\n",
            "19/19 [==============================] - 4s 192ms/step - loss: 4.8402e-04 - val_loss: 0.0024\n",
            "Epoch 4/100\n",
            "19/19 [==============================] - 4s 189ms/step - loss: 4.0467e-04 - val_loss: 0.0018\n",
            "Epoch 5/100\n",
            "19/19 [==============================] - 4s 232ms/step - loss: 4.0023e-04 - val_loss: 0.0017\n",
            "Epoch 6/100\n",
            "19/19 [==============================] - 4s 236ms/step - loss: 3.6901e-04 - val_loss: 0.0019\n",
            "Epoch 7/100\n",
            "19/19 [==============================] - 4s 196ms/step - loss: 3.6013e-04 - val_loss: 0.0019\n",
            "Epoch 8/100\n",
            "19/19 [==============================] - 3s 183ms/step - loss: 3.5871e-04 - val_loss: 0.0018\n",
            "Epoch 9/100\n",
            "19/19 [==============================] - 3s 180ms/step - loss: 3.3561e-04 - val_loss: 0.0020\n",
            "Epoch 10/100\n",
            "19/19 [==============================] - 3s 181ms/step - loss: 3.0361e-04 - val_loss: 0.0019\n",
            "Epoch 11/100\n",
            "19/19 [==============================] - 4s 198ms/step - loss: 2.9796e-04 - val_loss: 0.0012\n",
            "Epoch 12/100\n",
            "19/19 [==============================] - 4s 193ms/step - loss: 3.0680e-04 - val_loss: 0.0015\n",
            "Epoch 13/100\n",
            "19/19 [==============================] - 3s 185ms/step - loss: 2.7160e-04 - val_loss: 0.0015\n",
            "Epoch 14/100\n",
            "19/19 [==============================] - 4s 191ms/step - loss: 2.4333e-04 - val_loss: 0.0037\n",
            "Epoch 15/100\n",
            "19/19 [==============================] - 4s 194ms/step - loss: 2.4603e-04 - val_loss: 0.0027\n",
            "Epoch 16/100\n",
            "19/19 [==============================] - 3s 184ms/step - loss: 2.3891e-04 - val_loss: 0.0017\n",
            "Epoch 17/100\n",
            "19/19 [==============================] - 4s 186ms/step - loss: 2.8903e-04 - val_loss: 0.0024\n",
            "Epoch 18/100\n",
            "19/19 [==============================] - 3s 182ms/step - loss: 2.5715e-04 - val_loss: 0.0038\n",
            "Epoch 19/100\n",
            "19/19 [==============================] - 3s 185ms/step - loss: 2.3098e-04 - val_loss: 0.0028\n",
            "Epoch 20/100\n",
            "19/19 [==============================] - 4s 188ms/step - loss: 2.3087e-04 - val_loss: 0.0025\n",
            "Epoch 21/100\n",
            "19/19 [==============================] - 4s 187ms/step - loss: 2.2544e-04 - val_loss: 0.0036\n",
            "Epoch 22/100\n",
            "19/19 [==============================] - 3s 182ms/step - loss: 1.9886e-04 - val_loss: 0.0044\n",
            "Epoch 23/100\n",
            "19/19 [==============================] - 4s 190ms/step - loss: 2.0491e-04 - val_loss: 0.0039\n",
            "Epoch 24/100\n",
            "19/19 [==============================] - 4s 192ms/step - loss: 2.1103e-04 - val_loss: 0.0025\n",
            "Epoch 25/100\n",
            "19/19 [==============================] - 3s 184ms/step - loss: 2.1063e-04 - val_loss: 0.0035\n",
            "Epoch 26/100\n",
            "19/19 [==============================] - 3s 183ms/step - loss: 2.0519e-04 - val_loss: 0.0020\n",
            "Epoch 27/100\n",
            "19/19 [==============================] - 3s 182ms/step - loss: 2.1878e-04 - val_loss: 0.0059\n",
            "Epoch 28/100\n",
            "19/19 [==============================] - 3s 183ms/step - loss: 2.0291e-04 - val_loss: 0.0053\n",
            "Epoch 29/100\n",
            "19/19 [==============================] - 3s 180ms/step - loss: 1.8882e-04 - val_loss: 0.0027\n",
            "Epoch 30/100\n",
            "19/19 [==============================] - 4s 192ms/step - loss: 1.9278e-04 - val_loss: 0.0026\n",
            "Epoch 31/100\n",
            "19/19 [==============================] - 3s 183ms/step - loss: 1.8270e-04 - val_loss: 0.0031\n",
            "Epoch 32/100\n",
            "19/19 [==============================] - 4s 192ms/step - loss: 1.7420e-04 - val_loss: 0.0039\n",
            "Epoch 33/100\n",
            "19/19 [==============================] - 3s 182ms/step - loss: 1.7553e-04 - val_loss: 0.0032\n",
            "Epoch 34/100\n",
            "19/19 [==============================] - 3s 186ms/step - loss: 2.1232e-04 - val_loss: 0.0037\n",
            "Epoch 35/100\n",
            "19/19 [==============================] - 4s 201ms/step - loss: 1.8546e-04 - val_loss: 0.0015\n",
            "Epoch 36/100\n",
            "19/19 [==============================] - 3s 184ms/step - loss: 1.9191e-04 - val_loss: 9.8197e-04\n",
            "Epoch 37/100\n",
            "19/19 [==============================] - 3s 185ms/step - loss: 2.0155e-04 - val_loss: 0.0018\n",
            "Epoch 38/100\n",
            "19/19 [==============================] - 3s 183ms/step - loss: 2.0007e-04 - val_loss: 0.0013\n",
            "Epoch 39/100\n",
            "19/19 [==============================] - 4s 188ms/step - loss: 1.8071e-04 - val_loss: 0.0023\n",
            "Epoch 40/100\n",
            "19/19 [==============================] - 4s 188ms/step - loss: 1.7036e-04 - val_loss: 0.0050\n",
            "Epoch 41/100\n",
            "19/19 [==============================] - 4s 189ms/step - loss: 1.9106e-04 - val_loss: 0.0021\n",
            "Epoch 42/100\n",
            "19/19 [==============================] - 3s 183ms/step - loss: 1.5721e-04 - val_loss: 0.0020\n",
            "Epoch 43/100\n",
            "19/19 [==============================] - 4s 194ms/step - loss: 1.5456e-04 - val_loss: 0.0015\n",
            "Epoch 44/100\n",
            "19/19 [==============================] - 3s 183ms/step - loss: 1.6057e-04 - val_loss: 0.0014\n",
            "Epoch 45/100\n",
            "19/19 [==============================] - 3s 182ms/step - loss: 1.5790e-04 - val_loss: 0.0013\n",
            "Epoch 46/100\n",
            "19/19 [==============================] - 4s 186ms/step - loss: 1.5207e-04 - val_loss: 0.0021\n",
            "Epoch 47/100\n",
            "19/19 [==============================] - 4s 187ms/step - loss: 1.4821e-04 - val_loss: 0.0010\n",
            "Epoch 48/100\n",
            "19/19 [==============================] - 4s 192ms/step - loss: 1.4410e-04 - val_loss: 8.2641e-04\n",
            "Epoch 49/100\n",
            "19/19 [==============================] - 3s 186ms/step - loss: 1.3795e-04 - val_loss: 0.0013\n",
            "Epoch 50/100\n",
            "19/19 [==============================] - 3s 183ms/step - loss: 1.6522e-04 - val_loss: 6.7629e-04\n",
            "Epoch 51/100\n",
            "19/19 [==============================] - 4s 199ms/step - loss: 1.7079e-04 - val_loss: 9.1113e-04\n",
            "Epoch 52/100\n",
            "19/19 [==============================] - 4s 202ms/step - loss: 1.3485e-04 - val_loss: 9.2025e-04\n",
            "Epoch 53/100\n",
            "19/19 [==============================] - 4s 188ms/step - loss: 1.5534e-04 - val_loss: 8.4306e-04\n",
            "Epoch 54/100\n",
            "19/19 [==============================] - 4s 201ms/step - loss: 1.5335e-04 - val_loss: 0.0010\n",
            "Epoch 55/100\n",
            "19/19 [==============================] - 3s 186ms/step - loss: 1.4742e-04 - val_loss: 0.0012\n",
            "Epoch 56/100\n",
            "19/19 [==============================] - 4s 190ms/step - loss: 1.3718e-04 - val_loss: 8.2916e-04\n",
            "Epoch 57/100\n",
            "19/19 [==============================] - 3s 182ms/step - loss: 1.5196e-04 - val_loss: 0.0017\n",
            "Epoch 58/100\n",
            "19/19 [==============================] - 4s 188ms/step - loss: 1.3250e-04 - val_loss: 7.6096e-04\n",
            "Epoch 59/100\n",
            "19/19 [==============================] - 4s 190ms/step - loss: 1.2101e-04 - val_loss: 0.0011\n",
            "Epoch 60/100\n",
            "19/19 [==============================] - 4s 192ms/step - loss: 1.3276e-04 - val_loss: 4.8685e-04\n",
            "Epoch 61/100\n",
            "19/19 [==============================] - 4s 186ms/step - loss: 1.5509e-04 - val_loss: 6.7471e-04\n",
            "Epoch 62/100\n",
            "19/19 [==============================] - 4s 184ms/step - loss: 1.4363e-04 - val_loss: 0.0011\n",
            "Epoch 63/100\n",
            "19/19 [==============================] - 3s 184ms/step - loss: 1.4131e-04 - val_loss: 5.2115e-04\n",
            "Epoch 64/100\n",
            "19/19 [==============================] - 4s 188ms/step - loss: 1.3217e-04 - val_loss: 6.9148e-04\n",
            "Epoch 65/100\n",
            "19/19 [==============================] - 3s 185ms/step - loss: 1.3142e-04 - val_loss: 6.2542e-04\n",
            "Epoch 66/100\n",
            "19/19 [==============================] - 4s 192ms/step - loss: 1.2148e-04 - val_loss: 7.2966e-04\n",
            "Epoch 67/100\n",
            "19/19 [==============================] - 3s 184ms/step - loss: 1.2978e-04 - val_loss: 4.8917e-04\n",
            "Epoch 68/100\n",
            "19/19 [==============================] - 3s 184ms/step - loss: 1.3486e-04 - val_loss: 9.1116e-04\n",
            "Epoch 69/100\n",
            "19/19 [==============================] - 3s 184ms/step - loss: 1.0881e-04 - val_loss: 9.7465e-04\n",
            "Epoch 70/100\n",
            "19/19 [==============================] - 4s 186ms/step - loss: 1.2587e-04 - val_loss: 9.0119e-04\n",
            "Epoch 71/100\n",
            "19/19 [==============================] - 4s 186ms/step - loss: 1.1231e-04 - val_loss: 9.1253e-04\n",
            "Epoch 72/100\n",
            "19/19 [==============================] - 4s 190ms/step - loss: 1.4736e-04 - val_loss: 0.0018\n",
            "Epoch 73/100\n",
            "19/19 [==============================] - 3s 185ms/step - loss: 1.4350e-04 - val_loss: 4.6537e-04\n",
            "Epoch 74/100\n",
            "19/19 [==============================] - 4s 194ms/step - loss: 1.2085e-04 - val_loss: 7.9298e-04\n",
            "Epoch 75/100\n",
            "19/19 [==============================] - 4s 198ms/step - loss: 1.1332e-04 - val_loss: 4.1148e-04\n",
            "Epoch 76/100\n",
            "19/19 [==============================] - 4s 187ms/step - loss: 1.1993e-04 - val_loss: 9.9298e-04\n",
            "Epoch 77/100\n",
            "19/19 [==============================] - 4s 190ms/step - loss: 1.2781e-04 - val_loss: 3.7271e-04\n",
            "Epoch 78/100\n",
            "19/19 [==============================] - 4s 196ms/step - loss: 1.5142e-04 - val_loss: 3.7906e-04\n",
            "Epoch 79/100\n",
            "19/19 [==============================] - 4s 196ms/step - loss: 1.4489e-04 - val_loss: 3.8763e-04\n",
            "Epoch 80/100\n",
            "19/19 [==============================] - 4s 198ms/step - loss: 1.1105e-04 - val_loss: 7.0203e-04\n",
            "Epoch 81/100\n",
            "19/19 [==============================] - 3s 185ms/step - loss: 1.1365e-04 - val_loss: 8.2422e-04\n",
            "Epoch 82/100\n",
            "19/19 [==============================] - 4s 198ms/step - loss: 1.1154e-04 - val_loss: 4.6912e-04\n",
            "Epoch 83/100\n",
            "19/19 [==============================] - 4s 191ms/step - loss: 1.0372e-04 - val_loss: 3.7409e-04\n",
            "Epoch 84/100\n",
            "19/19 [==============================] - 4s 200ms/step - loss: 1.1078e-04 - val_loss: 3.5410e-04\n",
            "Epoch 85/100\n",
            "19/19 [==============================] - 4s 199ms/step - loss: 1.2524e-04 - val_loss: 3.7820e-04\n",
            "Epoch 86/100\n",
            "19/19 [==============================] - 4s 189ms/step - loss: 1.0872e-04 - val_loss: 7.0719e-04\n",
            "Epoch 87/100\n",
            "19/19 [==============================] - 3s 184ms/step - loss: 1.0848e-04 - val_loss: 7.1151e-04\n",
            "Epoch 88/100\n",
            "19/19 [==============================] - 4s 197ms/step - loss: 1.1046e-04 - val_loss: 4.0306e-04\n",
            "Epoch 89/100\n",
            "19/19 [==============================] - 4s 192ms/step - loss: 1.0609e-04 - val_loss: 4.1978e-04\n",
            "Epoch 90/100\n",
            "19/19 [==============================] - 4s 196ms/step - loss: 9.9389e-05 - val_loss: 4.2739e-04\n",
            "Epoch 91/100\n",
            "19/19 [==============================] - 4s 186ms/step - loss: 1.1940e-04 - val_loss: 3.5506e-04\n",
            "Epoch 92/100\n",
            "19/19 [==============================] - 4s 187ms/step - loss: 1.0588e-04 - val_loss: 4.5739e-04\n",
            "Epoch 93/100\n",
            "19/19 [==============================] - 4s 191ms/step - loss: 9.6570e-05 - val_loss: 3.1721e-04\n",
            "Epoch 94/100\n",
            "19/19 [==============================] - 4s 191ms/step - loss: 9.6715e-05 - val_loss: 3.7105e-04\n",
            "Epoch 95/100\n",
            "19/19 [==============================] - 4s 190ms/step - loss: 1.0268e-04 - val_loss: 9.9806e-04\n",
            "Epoch 96/100\n",
            "19/19 [==============================] - 4s 186ms/step - loss: 9.0427e-05 - val_loss: 5.2406e-04\n",
            "Epoch 97/100\n",
            "19/19 [==============================] - 4s 188ms/step - loss: 9.8677e-05 - val_loss: 3.8851e-04\n",
            "Epoch 98/100\n",
            "19/19 [==============================] - 4s 191ms/step - loss: 1.1361e-04 - val_loss: 3.2409e-04\n",
            "Epoch 99/100\n",
            "19/19 [==============================] - 4s 192ms/step - loss: 1.0473e-04 - val_loss: 4.1232e-04\n",
            "Epoch 100/100\n",
            "19/19 [==============================] - 3s 185ms/step - loss: 9.0518e-05 - val_loss: 4.4644e-04\n"
          ],
          "name": "stdout"
        },
        {
          "output_type": "execute_result",
          "data": {
            "text/plain": [
              "<tensorflow.python.keras.callbacks.History at 0x7f6253625990>"
            ]
          },
          "metadata": {
            "tags": []
          },
          "execution_count": 25
        }
      ]
    },
    {
      "cell_type": "code",
      "metadata": {
        "id": "ZZsVwnK2thkh"
      },
      "source": [
        "# Training and Test data prediction and check performance matrics\n",
        "train_predict=model.predict(x_train)\n",
        "test_predict=model.predict(x_test)\n"
      ],
      "execution_count": 26,
      "outputs": []
    },
    {
      "cell_type": "code",
      "metadata": {
        "id": "wg2aTHj5vmHQ"
      },
      "source": [
        "# Inverse transform to get original values\n",
        "train_predict=scalar.inverse_transform(train_predict)\n",
        "test_predict=scalar.inverse_transform(test_predict)"
      ],
      "execution_count": 27,
      "outputs": []
    },
    {
      "cell_type": "code",
      "metadata": {
        "colab": {
          "base_uri": "https://localhost:8080/"
        },
        "id": "GFu5-vm4v8ox",
        "outputId": "fe51b657-fb9b-49af-dcf3-3a466b18ac6e"
      },
      "source": [
        "# Calculate RMSE performance metrics\n",
        "math.sqrt(mean_squared_error(y_train,train_predict))\n"
      ],
      "execution_count": 28,
      "outputs": [
        {
          "output_type": "execute_result",
          "data": {
            "text/plain": [
              "24.44627474349728"
            ]
          },
          "metadata": {
            "tags": []
          },
          "execution_count": 28
        }
      ]
    },
    {
      "cell_type": "code",
      "metadata": {
        "colab": {
          "base_uri": "https://localhost:8080/"
        },
        "id": "uf3iuGxbwmWi",
        "outputId": "6c8c2006-2281-4508-cd36-c2ea17f73094"
      },
      "source": [
        "# Test Data RMSE\n",
        "math.sqrt(mean_squared_error(y_test,test_predict))\n"
      ],
      "execution_count": 29,
      "outputs": [
        {
          "output_type": "execute_result",
          "data": {
            "text/plain": [
              "46.97152078454958"
            ]
          },
          "metadata": {
            "tags": []
          },
          "execution_count": 29
        }
      ]
    },
    {
      "cell_type": "markdown",
      "metadata": {
        "id": "ZwVInNC3Mk5s"
      },
      "source": [
        "**Test and Train Dataset Prediction**\n",
        "\n",
        "\n",
        "*   Red colour shows Prediction of test and train dataset\n",
        "\n",
        "*   Blue colour shows overall dataset\n",
        "\n",
        "\n",
        "\n",
        "\n"
      ]
    },
    {
      "cell_type": "code",
      "metadata": {
        "id": "NA34VlkKwzki",
        "colab": {
          "base_uri": "https://localhost:8080/",
          "height": 282
        },
        "outputId": "a40388b4-c74d-4434-c9c8-7bb7db031c05"
      },
      "source": [
        "# Ploting \n",
        "# train predictions for plotting\n",
        "look_back=100\n",
        "trainPredictPlot = np.empty_like(df1)\n",
        "trainPredictPlot[:, :] = np.nan\n",
        "trainPredictPlot[look_back:len(train_predict)+look_back,:] = train_predict\n",
        "\n",
        "# test prediction for plotting\n",
        "testPredictPlot = np.empty_like(df1)\n",
        "testPredictPlot[:, :] = np.nan\n",
        "trainPredictPlot[len(train_predict)+(look_back*2)+1:len(df1)-1, :] = test_predict\n",
        "\n",
        "# plot baseline and predictions\n",
        "\n",
        "plt.plot(scalar.inverse_transform(df1))\n",
        "plt.plot(trainPredictPlot)\n",
        "plt.plot(testPredictPlot)\n",
        "plt.show()\n"
      ],
      "execution_count": 30,
      "outputs": [
        {
          "output_type": "display_data",
          "data": {
            "image/png": "[encoded data removed]",
            "text/plain": [
              "<Figure size 432x288 with 1 Axes>"
            ]
          },
          "metadata": {
            "tags": []
          }
        }
      ]
    },
    {
      "cell_type": "markdown",
      "metadata": {
        "id": "WsKmII4MQKRL"
      },
      "source": [
        "**Predicting the stock for next 30 days**"
      ]
    },
    {
      "cell_type": "code",
      "metadata": {
        "id": "XF7kAn4DaLlc",
        "colab": {
          "base_uri": "https://localhost:8080/"
        },
        "outputId": "19f77d42-da91-4af1-e4d3-e3cb3633fc4e"
      },
      "source": [
        "len(test_data)"
      ],
      "execution_count": 31,
      "outputs": [
        {
          "output_type": "execute_result",
          "data": {
            "text/plain": [
              "702"
            ]
          },
          "metadata": {
            "tags": []
          },
          "execution_count": 31
        }
      ]
    },
    {
      "cell_type": "code",
      "metadata": {
        "colab": {
          "base_uri": "https://localhost:8080/"
        },
        "id": "hqUoVlgU4U1l",
        "outputId": "b7643b76-425b-48c2-9021-cf274098287a"
      },
      "source": [
        "# converting sub test data of size 100\n",
        "x_input=test_data[602:].reshape(1,-1)\n",
        "x_input.shape\n",
        " "
      ],
      "execution_count": 32,
      "outputs": [
        {
          "output_type": "execute_result",
          "data": {
            "text/plain": [
              "(1, 100)"
            ]
          },
          "metadata": {
            "tags": []
          },
          "execution_count": 32
        }
      ]
    },
    {
      "cell_type": "code",
      "metadata": {
        "id": "Xz1qGjh55jaH",
        "colab": {
          "base_uri": "https://localhost:8080/"
        },
        "outputId": "45749fb3-2642-49a8-86c8-af20cf58cbde"
      },
      "source": [
        "temp_input=list(x_input)\n",
        "temp_input=temp_input[0].tolist()\n",
        "temp_input"
      ],
      "execution_count": 33,
      "outputs": [
        {
          "output_type": "execute_result",
          "data": {
            "text/plain": [
              "[0.6851125896115038,\n",
              " 0.6811058498488844,\n",
              " 0.7000711888870204,\n",
              " 0.6795476355347725,\n",
              " 0.6599145291800561,\n",
              " 0.6123675262240478,\n",
              " 0.6286617280642937,\n",
              " 0.6377437032276292,\n",
              " 0.6572878192278471,\n",
              " 0.6464250859325849,\n",
              " 0.6441545411930747,\n",
              " 0.6819517337375987,\n",
              " 0.6542605168172579,\n",
              " 0.6497640583786235,\n",
              " 0.6709553790474521,\n",
              " 0.6880954647764119,\n",
              " 0.6881399599536611,\n",
              " 0.6982904307550937,\n",
              " 0.6974891099751972,\n",
              " 0.6537707981412428,\n",
              " 0.6709108838702027,\n",
              " 0.6605378013193872,\n",
              " 0.666636969249383,\n",
              " 0.682129782378164,\n",
              " 0.6809278012083191,\n",
              " 0.6673937948520303,\n",
              " 0.6829311710896289,\n",
              " 0.7011396845251174,\n",
              " 0.7010506262390506,\n",
              " 0.7051019291104874,\n",
              " 0.7163653907272662,\n",
              " 0.7470394148809467,\n",
              " 0.7448134332502541,\n",
              " 0.7254919289994193,\n",
              " 0.7306116595773848,\n",
              " 0.7341732437728066,\n",
              " 0.7433888403310265,\n",
              " 0.7353307976969703,\n",
              " 0.7209509074519673,\n",
              " 0.725358375536103,\n",
              " 0.7207282957025845,\n",
              " 0.7356423998008517,\n",
              " 0.7305671644001355,\n",
              " 0.725803599034869,\n",
              " 0.7487311826583749,\n",
              " 0.7514913781423318,\n",
              " 0.7264268711742001,\n",
              " 0.7347075255576392,\n",
              " 0.7622651210830953,\n",
              " 0.7624877328324784,\n",
              " 0.7506454942536176,\n",
              " 0.7623541793691622,\n",
              " 0.7759771760799496,\n",
              " 0.8032232374330928,\n",
              " 0.8017095182962299,\n",
              " 0.7992609928477228,\n",
              " 0.7950315734041524,\n",
              " 0.7990828762755893,\n",
              " 0.8041136164990561,\n",
              " 0.822366625111794,\n",
              " 0.8199180996632869,\n",
              " 0.834253358867904,\n",
              " 0.836034184931399,\n",
              " 0.8493900747155543,\n",
              " 0.8603864294057009,\n",
              " 0.8347430775439191,\n",
              " 0.8346095240806031,\n",
              " 0.8590953220182209,\n",
              " 0.8905262397061171,\n",
              " 0.8980055053780913,\n",
              " 0.8963583007094806,\n",
              " 0.8968479514539274,\n",
              " 0.9065977618654115,\n",
              " 0.9097587536024534,\n",
              " 0.9189297870518558,\n",
              " 0.9178612234821903,\n",
              " 0.9290356947444707,\n",
              " 0.9208886617559162,\n",
              " 0.9347787653933357,\n",
              " 0.9407443798600152,\n",
              " 0.9371383004873444,\n",
              " 0.9233371872044234,\n",
              " 0.9180839031631416,\n",
              " 0.9170599027022939,\n",
              " 0.9374943977684751,\n",
              " 0.9282343739645742,\n",
              " 0.9440387891972366,\n",
              " 0.9414121471765957,\n",
              " 0.9276555970024922,\n",
              " 0.9066868880830468,\n",
              " 0.9168817861301601,\n",
              " 0.9339773087503025,\n",
              " 0.9568159020193099,\n",
              " 0.9399430590801188,\n",
              " 0.9468881108988285,\n",
              " 0.9570830089459421,\n",
              " 0.9601548744653488,\n",
              " 0.9765826297689106,\n",
              " 0.9975513386883561,\n",
              " 0.9999999999999998]"
            ]
          },
          "metadata": {
            "tags": []
          },
          "execution_count": 33
        }
      ]
    },
    {
      "cell_type": "code",
      "metadata": {
        "colab": {
          "base_uri": "https://localhost:8080/"
        },
        "id": "OIlP5bMP7lHF",
        "outputId": "0fe9b696-417b-48e7-805f-583250d46578"
      },
      "source": [
        " from numpy import array\n",
        "\n",
        "lst_output=[]\n",
        "n_steps=100\n",
        "i=0\n",
        "while(i<30):\n",
        "    \n",
        "    if(len(temp_input)>100):\n",
        "        #print(temp_input)\n",
        "        x_input=np.array(temp_input[1:])\n",
        "        print(\"{} day input {}\".format(i,x_input))\n",
        "        x_input=x_input.reshape(1,-1)\n",
        "        x_input = x_input.reshape((1, n_steps, 1))\n",
        "        #print(x_input)\n",
        "        yhat = model.predict(x_input, verbose=0)\n",
        "        print(\"{} day output {}\".format(i,yhat))\n",
        "        temp_input.extend(yhat[0].tolist())\n",
        "        temp_input=temp_input[1:]\n",
        "        #print(temp_input)\n",
        "        lst_output.extend(yhat.tolist())\n",
        "        i=i+1\n",
        "    else:\n",
        "        x_input = x_input.reshape((1, n_steps,1))\n",
        "        yhat = model.predict(x_input, verbose=0)\n",
        "        print(yhat[0])\n",
        "        temp_input.extend(yhat[0].tolist())\n",
        "        print(len(temp_input))\n",
        "        lst_output.extend(yhat.tolist())\n",
        "        i=i+1\n",
        "    \n",
        "\n",
        "print(lst_output)"
      ],
      "execution_count": 34,
      "outputs": [
        {
          "output_type": "stream",
          "text": [
            "[0.9659323]\n",
            "101\n",
            "1 day input [0.68110585 0.70007119 0.67954764 0.65991453 0.61236753 0.62866173\n",
            " 0.6377437  0.65728782 0.64642509 0.64415454 0.68195173 0.65426052\n",
            " 0.64976406 0.67095538 0.68809546 0.68813996 0.69829043 0.69748911\n",
            " 0.6537708  0.67091088 0.6605378  0.66663697 0.68212978 0.6809278\n",
            " 0.66739379 0.68293117 0.70113968 0.70105063 0.70510193 0.71636539\n",
            " 0.74703941 0.74481343 0.72549193 0.73061166 0.73417324 0.74338884\n",
            " 0.7353308  0.72095091 0.72535838 0.7207283  0.7356424  0.73056716\n",
            " 0.7258036  0.74873118 0.75149138 0.72642687 0.73470753 0.76226512\n",
            " 0.76248773 0.75064549 0.76235418 0.77597718 0.80322324 0.80170952\n",
            " 0.79926099 0.79503157 0.79908288 0.80411362 0.82236663 0.8199181\n",
            " 0.83425336 0.83603418 0.84939007 0.86038643 0.83474308 0.83460952\n",
            " 0.85909532 0.89052624 0.89800551 0.8963583  0.89684795 0.90659776\n",
            " 0.90975875 0.91892979 0.91786122 0.92903569 0.92088866 0.93477877\n",
            " 0.94074438 0.9371383  0.92333719 0.9180839  0.9170599  0.9374944\n",
            " 0.92823437 0.94403879 0.94141215 0.9276556  0.90668689 0.91688179\n",
            " 0.93397731 0.9568159  0.93994306 0.94688811 0.95708301 0.96015487\n",
            " 0.97658263 0.99755134 1.         0.96593231]\n",
            "1 day output [[0.9573324]]\n",
            "2 day input [0.70007119 0.67954764 0.65991453 0.61236753 0.62866173 0.6377437\n",
            " 0.65728782 0.64642509 0.64415454 0.68195173 0.65426052 0.64976406\n",
            " 0.67095538 0.68809546 0.68813996 0.69829043 0.69748911 0.6537708\n",
            " 0.67091088 0.6605378  0.66663697 0.68212978 0.6809278  0.66739379\n",
            " 0.68293117 0.70113968 0.70105063 0.70510193 0.71636539 0.74703941\n",
            " 0.74481343 0.72549193 0.73061166 0.73417324 0.74338884 0.7353308\n",
            " 0.72095091 0.72535838 0.7207283  0.7356424  0.73056716 0.7258036\n",
            " 0.74873118 0.75149138 0.72642687 0.73470753 0.76226512 0.76248773\n",
            " 0.75064549 0.76235418 0.77597718 0.80322324 0.80170952 0.79926099\n",
            " 0.79503157 0.79908288 0.80411362 0.82236663 0.8199181  0.83425336\n",
            " 0.83603418 0.84939007 0.86038643 0.83474308 0.83460952 0.85909532\n",
            " 0.89052624 0.89800551 0.8963583  0.89684795 0.90659776 0.90975875\n",
            " 0.91892979 0.91786122 0.92903569 0.92088866 0.93477877 0.94074438\n",
            " 0.9371383  0.92333719 0.9180839  0.9170599  0.9374944  0.92823437\n",
            " 0.94403879 0.94141215 0.9276556  0.90668689 0.91688179 0.93397731\n",
            " 0.9568159  0.93994306 0.94688811 0.95708301 0.96015487 0.97658263\n",
            " 0.99755134 1.         0.96593231 0.95733237]\n",
            "2 day output [[0.9389472]]\n",
            "3 day input [0.67954764 0.65991453 0.61236753 0.62866173 0.6377437  0.65728782\n",
            " 0.64642509 0.64415454 0.68195173 0.65426052 0.64976406 0.67095538\n",
            " 0.68809546 0.68813996 0.69829043 0.69748911 0.6537708  0.67091088\n",
            " 0.6605378  0.66663697 0.68212978 0.6809278  0.66739379 0.68293117\n",
            " 0.70113968 0.70105063 0.70510193 0.71636539 0.74703941 0.74481343\n",
            " 0.72549193 0.73061166 0.73417324 0.74338884 0.7353308  0.72095091\n",
            " 0.72535838 0.7207283  0.7356424  0.73056716 0.7258036  0.74873118\n",
            " 0.75149138 0.72642687 0.73470753 0.76226512 0.76248773 0.75064549\n",
            " 0.76235418 0.77597718 0.80322324 0.80170952 0.79926099 0.79503157\n",
            " 0.79908288 0.80411362 0.82236663 0.8199181  0.83425336 0.83603418\n",
            " 0.84939007 0.86038643 0.83474308 0.83460952 0.85909532 0.89052624\n",
            " 0.89800551 0.8963583  0.89684795 0.90659776 0.90975875 0.91892979\n",
            " 0.91786122 0.92903569 0.92088866 0.93477877 0.94074438 0.9371383\n",
            " 0.92333719 0.9180839  0.9170599  0.9374944  0.92823437 0.94403879\n",
            " 0.94141215 0.9276556  0.90668689 0.91688179 0.93397731 0.9568159\n",
            " 0.93994306 0.94688811 0.95708301 0.96015487 0.97658263 0.99755134\n",
            " 1.         0.96593231 0.95733237 0.9389472 ]\n",
            "3 day output [[0.91844964]]\n",
            "4 day input [0.65991453 0.61236753 0.62866173 0.6377437  0.65728782 0.64642509\n",
            " 0.64415454 0.68195173 0.65426052 0.64976406 0.67095538 0.68809546\n",
            " 0.68813996 0.69829043 0.69748911 0.6537708  0.67091088 0.6605378\n",
            " 0.66663697 0.68212978 0.6809278  0.66739379 0.68293117 0.70113968\n",
            " 0.70105063 0.70510193 0.71636539 0.74703941 0.74481343 0.72549193\n",
            " 0.73061166 0.73417324 0.74338884 0.7353308  0.72095091 0.72535838\n",
            " 0.7207283  0.7356424  0.73056716 0.7258036  0.74873118 0.75149138\n",
            " 0.72642687 0.73470753 0.76226512 0.76248773 0.75064549 0.76235418\n",
            " 0.77597718 0.80322324 0.80170952 0.79926099 0.79503157 0.79908288\n",
            " 0.80411362 0.82236663 0.8199181  0.83425336 0.83603418 0.84939007\n",
            " 0.86038643 0.83474308 0.83460952 0.85909532 0.89052624 0.89800551\n",
            " 0.8963583  0.89684795 0.90659776 0.90975875 0.91892979 0.91786122\n",
            " 0.92903569 0.92088866 0.93477877 0.94074438 0.9371383  0.92333719\n",
            " 0.9180839  0.9170599  0.9374944  0.92823437 0.94403879 0.94141215\n",
            " 0.9276556  0.90668689 0.91688179 0.93397731 0.9568159  0.93994306\n",
            " 0.94688811 0.95708301 0.96015487 0.97658263 0.99755134 1.\n",
            " 0.96593231 0.95733237 0.9389472  0.91844964]\n",
            "4 day output [[0.8990051]]\n",
            "5 day input [0.61236753 0.62866173 0.6377437  0.65728782 0.64642509 0.64415454\n",
            " 0.68195173 0.65426052 0.64976406 0.67095538 0.68809546 0.68813996\n",
            " 0.69829043 0.69748911 0.6537708  0.67091088 0.6605378  0.66663697\n",
            " 0.68212978 0.6809278  0.66739379 0.68293117 0.70113968 0.70105063\n",
            " 0.70510193 0.71636539 0.74703941 0.74481343 0.72549193 0.73061166\n",
            " 0.73417324 0.74338884 0.7353308  0.72095091 0.72535838 0.7207283\n",
            " 0.7356424  0.73056716 0.7258036  0.74873118 0.75149138 0.72642687\n",
            " 0.73470753 0.76226512 0.76248773 0.75064549 0.76235418 0.77597718\n",
            " 0.80322324 0.80170952 0.79926099 0.79503157 0.79908288 0.80411362\n",
            " 0.82236663 0.8199181  0.83425336 0.83603418 0.84939007 0.86038643\n",
            " 0.83474308 0.83460952 0.85909532 0.89052624 0.89800551 0.8963583\n",
            " 0.89684795 0.90659776 0.90975875 0.91892979 0.91786122 0.92903569\n",
            " 0.92088866 0.93477877 0.94074438 0.9371383  0.92333719 0.9180839\n",
            " 0.9170599  0.9374944  0.92823437 0.94403879 0.94141215 0.9276556\n",
            " 0.90668689 0.91688179 0.93397731 0.9568159  0.93994306 0.94688811\n",
            " 0.95708301 0.96015487 0.97658263 0.99755134 1.         0.96593231\n",
            " 0.95733237 0.9389472  0.91844964 0.89900512]\n",
            "5 day output [[0.8815704]]\n",
            "6 day input [0.62866173 0.6377437  0.65728782 0.64642509 0.64415454 0.68195173\n",
            " 0.65426052 0.64976406 0.67095538 0.68809546 0.68813996 0.69829043\n",
            " 0.69748911 0.6537708  0.67091088 0.6605378  0.66663697 0.68212978\n",
            " 0.6809278  0.66739379 0.68293117 0.70113968 0.70105063 0.70510193\n",
            " 0.71636539 0.74703941 0.74481343 0.72549193 0.73061166 0.73417324\n",
            " 0.74338884 0.7353308  0.72095091 0.72535838 0.7207283  0.7356424\n",
            " 0.73056716 0.7258036  0.74873118 0.75149138 0.72642687 0.73470753\n",
            " 0.76226512 0.76248773 0.75064549 0.76235418 0.77597718 0.80322324\n",
            " 0.80170952 0.79926099 0.79503157 0.79908288 0.80411362 0.82236663\n",
            " 0.8199181  0.83425336 0.83603418 0.84939007 0.86038643 0.83474308\n",
            " 0.83460952 0.85909532 0.89052624 0.89800551 0.8963583  0.89684795\n",
            " 0.90659776 0.90975875 0.91892979 0.91786122 0.92903569 0.92088866\n",
            " 0.93477877 0.94074438 0.9371383  0.92333719 0.9180839  0.9170599\n",
            " 0.9374944  0.92823437 0.94403879 0.94141215 0.9276556  0.90668689\n",
            " 0.91688179 0.93397731 0.9568159  0.93994306 0.94688811 0.95708301\n",
            " 0.96015487 0.97658263 0.99755134 1.         0.96593231 0.95733237\n",
            " 0.9389472  0.91844964 0.89900512 0.8815704 ]\n",
            "6 day output [[0.8661389]]\n",
            "7 day input [0.6377437  0.65728782 0.64642509 0.64415454 0.68195173 0.65426052\n",
            " 0.64976406 0.67095538 0.68809546 0.68813996 0.69829043 0.69748911\n",
            " 0.6537708  0.67091088 0.6605378  0.66663697 0.68212978 0.6809278\n",
            " 0.66739379 0.68293117 0.70113968 0.70105063 0.70510193 0.71636539\n",
            " 0.74703941 0.74481343 0.72549193 0.73061166 0.73417324 0.74338884\n",
            " 0.7353308  0.72095091 0.72535838 0.7207283  0.7356424  0.73056716\n",
            " 0.7258036  0.74873118 0.75149138 0.72642687 0.73470753 0.76226512\n",
            " 0.76248773 0.75064549 0.76235418 0.77597718 0.80322324 0.80170952\n",
            " 0.79926099 0.79503157 0.79908288 0.80411362 0.82236663 0.8199181\n",
            " 0.83425336 0.83603418 0.84939007 0.86038643 0.83474308 0.83460952\n",
            " 0.85909532 0.89052624 0.89800551 0.8963583  0.89684795 0.90659776\n",
            " 0.90975875 0.91892979 0.91786122 0.92903569 0.92088866 0.93477877\n",
            " 0.94074438 0.9371383  0.92333719 0.9180839  0.9170599  0.9374944\n",
            " 0.92823437 0.94403879 0.94141215 0.9276556  0.90668689 0.91688179\n",
            " 0.93397731 0.9568159  0.93994306 0.94688811 0.95708301 0.96015487\n",
            " 0.97658263 0.99755134 1.         0.96593231 0.95733237 0.9389472\n",
            " 0.91844964 0.89900512 0.8815704  0.86613888]\n",
            "7 day output [[0.85226333]]\n",
            "8 day input [0.65728782 0.64642509 0.64415454 0.68195173 0.65426052 0.64976406\n",
            " 0.67095538 0.68809546 0.68813996 0.69829043 0.69748911 0.6537708\n",
            " 0.67091088 0.6605378  0.66663697 0.68212978 0.6809278  0.66739379\n",
            " 0.68293117 0.70113968 0.70105063 0.70510193 0.71636539 0.74703941\n",
            " 0.74481343 0.72549193 0.73061166 0.73417324 0.74338884 0.7353308\n",
            " 0.72095091 0.72535838 0.7207283  0.7356424  0.73056716 0.7258036\n",
            " 0.74873118 0.75149138 0.72642687 0.73470753 0.76226512 0.76248773\n",
            " 0.75064549 0.76235418 0.77597718 0.80322324 0.80170952 0.79926099\n",
            " 0.79503157 0.79908288 0.80411362 0.82236663 0.8199181  0.83425336\n",
            " 0.83603418 0.84939007 0.86038643 0.83474308 0.83460952 0.85909532\n",
            " 0.89052624 0.89800551 0.8963583  0.89684795 0.90659776 0.90975875\n",
            " 0.91892979 0.91786122 0.92903569 0.92088866 0.93477877 0.94074438\n",
            " 0.9371383  0.92333719 0.9180839  0.9170599  0.9374944  0.92823437\n",
            " 0.94403879 0.94141215 0.9276556  0.90668689 0.91688179 0.93397731\n",
            " 0.9568159  0.93994306 0.94688811 0.95708301 0.96015487 0.97658263\n",
            " 0.99755134 1.         0.96593231 0.95733237 0.9389472  0.91844964\n",
            " 0.89900512 0.8815704  0.86613888 0.85226333]\n",
            "8 day output [[0.8393163]]\n",
            "9 day input [0.64642509 0.64415454 0.68195173 0.65426052 0.64976406 0.67095538\n",
            " 0.68809546 0.68813996 0.69829043 0.69748911 0.6537708  0.67091088\n",
            " 0.6605378  0.66663697 0.68212978 0.6809278  0.66739379 0.68293117\n",
            " 0.70113968 0.70105063 0.70510193 0.71636539 0.74703941 0.74481343\n",
            " 0.72549193 0.73061166 0.73417324 0.74338884 0.7353308  0.72095091\n",
            " 0.72535838 0.7207283  0.7356424  0.73056716 0.7258036  0.74873118\n",
            " 0.75149138 0.72642687 0.73470753 0.76226512 0.76248773 0.75064549\n",
            " 0.76235418 0.77597718 0.80322324 0.80170952 0.79926099 0.79503157\n",
            " 0.79908288 0.80411362 0.82236663 0.8199181  0.83425336 0.83603418\n",
            " 0.84939007 0.86038643 0.83474308 0.83460952 0.85909532 0.89052624\n",
            " 0.89800551 0.8963583  0.89684795 0.90659776 0.90975875 0.91892979\n",
            " 0.91786122 0.92903569 0.92088866 0.93477877 0.94074438 0.9371383\n",
            " 0.92333719 0.9180839  0.9170599  0.9374944  0.92823437 0.94403879\n",
            " 0.94141215 0.9276556  0.90668689 0.91688179 0.93397731 0.9568159\n",
            " 0.93994306 0.94688811 0.95708301 0.96015487 0.97658263 0.99755134\n",
            " 1.         0.96593231 0.95733237 0.9389472  0.91844964 0.89900512\n",
            " 0.8815704  0.86613888 0.85226333 0.83931631]\n",
            "9 day output [[0.8266613]]\n",
            "10 day input [0.64415454 0.68195173 0.65426052 0.64976406 0.67095538 0.68809546\n",
            " 0.68813996 0.69829043 0.69748911 0.6537708  0.67091088 0.6605378\n",
            " 0.66663697 0.68212978 0.6809278  0.66739379 0.68293117 0.70113968\n",
            " 0.70105063 0.70510193 0.71636539 0.74703941 0.74481343 0.72549193\n",
            " 0.73061166 0.73417324 0.74338884 0.7353308  0.72095091 0.72535838\n",
            " 0.7207283  0.7356424  0.73056716 0.7258036  0.74873118 0.75149138\n",
            " 0.72642687 0.73470753 0.76226512 0.76248773 0.75064549 0.76235418\n",
            " 0.77597718 0.80322324 0.80170952 0.79926099 0.79503157 0.79908288\n",
            " 0.80411362 0.82236663 0.8199181  0.83425336 0.83603418 0.84939007\n",
            " 0.86038643 0.83474308 0.83460952 0.85909532 0.89052624 0.89800551\n",
            " 0.8963583  0.89684795 0.90659776 0.90975875 0.91892979 0.91786122\n",
            " 0.92903569 0.92088866 0.93477877 0.94074438 0.9371383  0.92333719\n",
            " 0.9180839  0.9170599  0.9374944  0.92823437 0.94403879 0.94141215\n",
            " 0.9276556  0.90668689 0.91688179 0.93397731 0.9568159  0.93994306\n",
            " 0.94688811 0.95708301 0.96015487 0.97658263 0.99755134 1.\n",
            " 0.96593231 0.95733237 0.9389472  0.91844964 0.89900512 0.8815704\n",
            " 0.86613888 0.85226333 0.83931631 0.82666129]\n",
            "10 day output [[0.8137698]]\n",
            "11 day input [0.68195173 0.65426052 0.64976406 0.67095538 0.68809546 0.68813996\n",
            " 0.69829043 0.69748911 0.6537708  0.67091088 0.6605378  0.66663697\n",
            " 0.68212978 0.6809278  0.66739379 0.68293117 0.70113968 0.70105063\n",
            " 0.70510193 0.71636539 0.74703941 0.74481343 0.72549193 0.73061166\n",
            " 0.73417324 0.74338884 0.7353308  0.72095091 0.72535838 0.7207283\n",
            " 0.7356424  0.73056716 0.7258036  0.74873118 0.75149138 0.72642687\n",
            " 0.73470753 0.76226512 0.76248773 0.75064549 0.76235418 0.77597718\n",
            " 0.80322324 0.80170952 0.79926099 0.79503157 0.79908288 0.80411362\n",
            " 0.82236663 0.8199181  0.83425336 0.83603418 0.84939007 0.86038643\n",
            " 0.83474308 0.83460952 0.85909532 0.89052624 0.89800551 0.8963583\n",
            " 0.89684795 0.90659776 0.90975875 0.91892979 0.91786122 0.92903569\n",
            " 0.92088866 0.93477877 0.94074438 0.9371383  0.92333719 0.9180839\n",
            " 0.9170599  0.9374944  0.92823437 0.94403879 0.94141215 0.9276556\n",
            " 0.90668689 0.91688179 0.93397731 0.9568159  0.93994306 0.94688811\n",
            " 0.95708301 0.96015487 0.97658263 0.99755134 1.         0.96593231\n",
            " 0.95733237 0.9389472  0.91844964 0.89900512 0.8815704  0.86613888\n",
            " 0.85226333 0.83931631 0.82666129 0.81376982]\n",
            "11 day output [[0.80028486]]\n",
            "12 day input [0.65426052 0.64976406 0.67095538 0.68809546 0.68813996 0.69829043\n",
            " 0.69748911 0.6537708  0.67091088 0.6605378  0.66663697 0.68212978\n",
            " 0.6809278  0.66739379 0.68293117 0.70113968 0.70105063 0.70510193\n",
            " 0.71636539 0.74703941 0.74481343 0.72549193 0.73061166 0.73417324\n",
            " 0.74338884 0.7353308  0.72095091 0.72535838 0.7207283  0.7356424\n",
            " 0.73056716 0.7258036  0.74873118 0.75149138 0.72642687 0.73470753\n",
            " 0.76226512 0.76248773 0.75064549 0.76235418 0.77597718 0.80322324\n",
            " 0.80170952 0.79926099 0.79503157 0.79908288 0.80411362 0.82236663\n",
            " 0.8199181  0.83425336 0.83603418 0.84939007 0.86038643 0.83474308\n",
            " 0.83460952 0.85909532 0.89052624 0.89800551 0.8963583  0.89684795\n",
            " 0.90659776 0.90975875 0.91892979 0.91786122 0.92903569 0.92088866\n",
            " 0.93477877 0.94074438 0.9371383  0.92333719 0.9180839  0.9170599\n",
            " 0.9374944  0.92823437 0.94403879 0.94141215 0.9276556  0.90668689\n",
            " 0.91688179 0.93397731 0.9568159  0.93994306 0.94688811 0.95708301\n",
            " 0.96015487 0.97658263 0.99755134 1.         0.96593231 0.95733237\n",
            " 0.9389472  0.91844964 0.89900512 0.8815704  0.86613888 0.85226333\n",
            " 0.83931631 0.82666129 0.81376982 0.80028486]\n",
            "12 day output [[0.786033]]\n",
            "13 day input [0.64976406 0.67095538 0.68809546 0.68813996 0.69829043 0.69748911\n",
            " 0.6537708  0.67091088 0.6605378  0.66663697 0.68212978 0.6809278\n",
            " 0.66739379 0.68293117 0.70113968 0.70105063 0.70510193 0.71636539\n",
            " 0.74703941 0.74481343 0.72549193 0.73061166 0.73417324 0.74338884\n",
            " 0.7353308  0.72095091 0.72535838 0.7207283  0.7356424  0.73056716\n",
            " 0.7258036  0.74873118 0.75149138 0.72642687 0.73470753 0.76226512\n",
            " 0.76248773 0.75064549 0.76235418 0.77597718 0.80322324 0.80170952\n",
            " 0.79926099 0.79503157 0.79908288 0.80411362 0.82236663 0.8199181\n",
            " 0.83425336 0.83603418 0.84939007 0.86038643 0.83474308 0.83460952\n",
            " 0.85909532 0.89052624 0.89800551 0.8963583  0.89684795 0.90659776\n",
            " 0.90975875 0.91892979 0.91786122 0.92903569 0.92088866 0.93477877\n",
            " 0.94074438 0.9371383  0.92333719 0.9180839  0.9170599  0.9374944\n",
            " 0.92823437 0.94403879 0.94141215 0.9276556  0.90668689 0.91688179\n",
            " 0.93397731 0.9568159  0.93994306 0.94688811 0.95708301 0.96015487\n",
            " 0.97658263 0.99755134 1.         0.96593231 0.95733237 0.9389472\n",
            " 0.91844964 0.89900512 0.8815704  0.86613888 0.85226333 0.83931631\n",
            " 0.82666129 0.81376982 0.80028486 0.78603297]\n",
            "13 day output [[0.7710015]]\n",
            "14 day input [0.67095538 0.68809546 0.68813996 0.69829043 0.69748911 0.6537708\n",
            " 0.67091088 0.6605378  0.66663697 0.68212978 0.6809278  0.66739379\n",
            " 0.68293117 0.70113968 0.70105063 0.70510193 0.71636539 0.74703941\n",
            " 0.74481343 0.72549193 0.73061166 0.73417324 0.74338884 0.7353308\n",
            " 0.72095091 0.72535838 0.7207283  0.7356424  0.73056716 0.7258036\n",
            " 0.74873118 0.75149138 0.72642687 0.73470753 0.76226512 0.76248773\n",
            " 0.75064549 0.76235418 0.77597718 0.80322324 0.80170952 0.79926099\n",
            " 0.79503157 0.79908288 0.80411362 0.82236663 0.8199181  0.83425336\n",
            " 0.83603418 0.84939007 0.86038643 0.83474308 0.83460952 0.85909532\n",
            " 0.89052624 0.89800551 0.8963583  0.89684795 0.90659776 0.90975875\n",
            " 0.91892979 0.91786122 0.92903569 0.92088866 0.93477877 0.94074438\n",
            " 0.9371383  0.92333719 0.9180839  0.9170599  0.9374944  0.92823437\n",
            " 0.94403879 0.94141215 0.9276556  0.90668689 0.91688179 0.93397731\n",
            " 0.9568159  0.93994306 0.94688811 0.95708301 0.96015487 0.97658263\n",
            " 0.99755134 1.         0.96593231 0.95733237 0.9389472  0.91844964\n",
            " 0.89900512 0.8815704  0.86613888 0.85226333 0.83931631 0.82666129\n",
            " 0.81376982 0.80028486 0.78603297 0.77100152]\n",
            "14 day output [[0.7552929]]\n",
            "15 day input [0.68809546 0.68813996 0.69829043 0.69748911 0.6537708  0.67091088\n",
            " 0.6605378  0.66663697 0.68212978 0.6809278  0.66739379 0.68293117\n",
            " 0.70113968 0.70105063 0.70510193 0.71636539 0.74703941 0.74481343\n",
            " 0.72549193 0.73061166 0.73417324 0.74338884 0.7353308  0.72095091\n",
            " 0.72535838 0.7207283  0.7356424  0.73056716 0.7258036  0.74873118\n",
            " 0.75149138 0.72642687 0.73470753 0.76226512 0.76248773 0.75064549\n",
            " 0.76235418 0.77597718 0.80322324 0.80170952 0.79926099 0.79503157\n",
            " 0.79908288 0.80411362 0.82236663 0.8199181  0.83425336 0.83603418\n",
            " 0.84939007 0.86038643 0.83474308 0.83460952 0.85909532 0.89052624\n",
            " 0.89800551 0.8963583  0.89684795 0.90659776 0.90975875 0.91892979\n",
            " 0.91786122 0.92903569 0.92088866 0.93477877 0.94074438 0.9371383\n",
            " 0.92333719 0.9180839  0.9170599  0.9374944  0.92823437 0.94403879\n",
            " 0.94141215 0.9276556  0.90668689 0.91688179 0.93397731 0.9568159\n",
            " 0.93994306 0.94688811 0.95708301 0.96015487 0.97658263 0.99755134\n",
            " 1.         0.96593231 0.95733237 0.9389472  0.91844964 0.89900512\n",
            " 0.8815704  0.86613888 0.85226333 0.83931631 0.82666129 0.81376982\n",
            " 0.80028486 0.78603297 0.77100152 0.75529289]\n",
            "15 day output [[0.73907393]]\n",
            "16 day input [0.68813996 0.69829043 0.69748911 0.6537708  0.67091088 0.6605378\n",
            " 0.66663697 0.68212978 0.6809278  0.66739379 0.68293117 0.70113968\n",
            " 0.70105063 0.70510193 0.71636539 0.74703941 0.74481343 0.72549193\n",
            " 0.73061166 0.73417324 0.74338884 0.7353308  0.72095091 0.72535838\n",
            " 0.7207283  0.7356424  0.73056716 0.7258036  0.74873118 0.75149138\n",
            " 0.72642687 0.73470753 0.76226512 0.76248773 0.75064549 0.76235418\n",
            " 0.77597718 0.80322324 0.80170952 0.79926099 0.79503157 0.79908288\n",
            " 0.80411362 0.82236663 0.8199181  0.83425336 0.83603418 0.84939007\n",
            " 0.86038643 0.83474308 0.83460952 0.85909532 0.89052624 0.89800551\n",
            " 0.8963583  0.89684795 0.90659776 0.90975875 0.91892979 0.91786122\n",
            " 0.92903569 0.92088866 0.93477877 0.94074438 0.9371383  0.92333719\n",
            " 0.9180839  0.9170599  0.9374944  0.92823437 0.94403879 0.94141215\n",
            " 0.9276556  0.90668689 0.91688179 0.93397731 0.9568159  0.93994306\n",
            " 0.94688811 0.95708301 0.96015487 0.97658263 0.99755134 1.\n",
            " 0.96593231 0.95733237 0.9389472  0.91844964 0.89900512 0.8815704\n",
            " 0.86613888 0.85226333 0.83931631 0.82666129 0.81376982 0.80028486\n",
            " 0.78603297 0.77100152 0.75529289 0.73907393]\n",
            "16 day output [[0.722532]]\n",
            "17 day input [0.69829043 0.69748911 0.6537708  0.67091088 0.6605378  0.66663697\n",
            " 0.68212978 0.6809278  0.66739379 0.68293117 0.70113968 0.70105063\n",
            " 0.70510193 0.71636539 0.74703941 0.74481343 0.72549193 0.73061166\n",
            " 0.73417324 0.74338884 0.7353308  0.72095091 0.72535838 0.7207283\n",
            " 0.7356424  0.73056716 0.7258036  0.74873118 0.75149138 0.72642687\n",
            " 0.73470753 0.76226512 0.76248773 0.75064549 0.76235418 0.77597718\n",
            " 0.80322324 0.80170952 0.79926099 0.79503157 0.79908288 0.80411362\n",
            " 0.82236663 0.8199181  0.83425336 0.83603418 0.84939007 0.86038643\n",
            " 0.83474308 0.83460952 0.85909532 0.89052624 0.89800551 0.8963583\n",
            " 0.89684795 0.90659776 0.90975875 0.91892979 0.91786122 0.92903569\n",
            " 0.92088866 0.93477877 0.94074438 0.9371383  0.92333719 0.9180839\n",
            " 0.9170599  0.9374944  0.92823437 0.94403879 0.94141215 0.9276556\n",
            " 0.90668689 0.91688179 0.93397731 0.9568159  0.93994306 0.94688811\n",
            " 0.95708301 0.96015487 0.97658263 0.99755134 1.         0.96593231\n",
            " 0.95733237 0.9389472  0.91844964 0.89900512 0.8815704  0.86613888\n",
            " 0.85226333 0.83931631 0.82666129 0.81376982 0.80028486 0.78603297\n",
            " 0.77100152 0.75529289 0.73907393 0.72253197]\n",
            "17 day output [[0.7058398]]\n",
            "18 day input [0.69748911 0.6537708  0.67091088 0.6605378  0.66663697 0.68212978\n",
            " 0.6809278  0.66739379 0.68293117 0.70113968 0.70105063 0.70510193\n",
            " 0.71636539 0.74703941 0.74481343 0.72549193 0.73061166 0.73417324\n",
            " 0.74338884 0.7353308  0.72095091 0.72535838 0.7207283  0.7356424\n",
            " 0.73056716 0.7258036  0.74873118 0.75149138 0.72642687 0.73470753\n",
            " 0.76226512 0.76248773 0.75064549 0.76235418 0.77597718 0.80322324\n",
            " 0.80170952 0.79926099 0.79503157 0.79908288 0.80411362 0.82236663\n",
            " 0.8199181  0.83425336 0.83603418 0.84939007 0.86038643 0.83474308\n",
            " 0.83460952 0.85909532 0.89052624 0.89800551 0.8963583  0.89684795\n",
            " 0.90659776 0.90975875 0.91892979 0.91786122 0.92903569 0.92088866\n",
            " 0.93477877 0.94074438 0.9371383  0.92333719 0.9180839  0.9170599\n",
            " 0.9374944  0.92823437 0.94403879 0.94141215 0.9276556  0.90668689\n",
            " 0.91688179 0.93397731 0.9568159  0.93994306 0.94688811 0.95708301\n",
            " 0.96015487 0.97658263 0.99755134 1.         0.96593231 0.95733237\n",
            " 0.9389472  0.91844964 0.89900512 0.8815704  0.86613888 0.85226333\n",
            " 0.83931631 0.82666129 0.81376982 0.80028486 0.78603297 0.77100152\n",
            " 0.75529289 0.73907393 0.72253197 0.70583981]\n",
            "18 day output [[0.6891359]]\n",
            "19 day input [0.6537708  0.67091088 0.6605378  0.66663697 0.68212978 0.6809278\n",
            " 0.66739379 0.68293117 0.70113968 0.70105063 0.70510193 0.71636539\n",
            " 0.74703941 0.74481343 0.72549193 0.73061166 0.73417324 0.74338884\n",
            " 0.7353308  0.72095091 0.72535838 0.7207283  0.7356424  0.73056716\n",
            " 0.7258036  0.74873118 0.75149138 0.72642687 0.73470753 0.76226512\n",
            " 0.76248773 0.75064549 0.76235418 0.77597718 0.80322324 0.80170952\n",
            " 0.79926099 0.79503157 0.79908288 0.80411362 0.82236663 0.8199181\n",
            " 0.83425336 0.83603418 0.84939007 0.86038643 0.83474308 0.83460952\n",
            " 0.85909532 0.89052624 0.89800551 0.8963583  0.89684795 0.90659776\n",
            " 0.90975875 0.91892979 0.91786122 0.92903569 0.92088866 0.93477877\n",
            " 0.94074438 0.9371383  0.92333719 0.9180839  0.9170599  0.9374944\n",
            " 0.92823437 0.94403879 0.94141215 0.9276556  0.90668689 0.91688179\n",
            " 0.93397731 0.9568159  0.93994306 0.94688811 0.95708301 0.96015487\n",
            " 0.97658263 0.99755134 1.         0.96593231 0.95733237 0.9389472\n",
            " 0.91844964 0.89900512 0.8815704  0.86613888 0.85226333 0.83931631\n",
            " 0.82666129 0.81376982 0.80028486 0.78603297 0.77100152 0.75529289\n",
            " 0.73907393 0.72253197 0.70583981 0.68913591]\n",
            "19 day output [[0.6725169]]\n",
            "20 day input [0.67091088 0.6605378  0.66663697 0.68212978 0.6809278  0.66739379\n",
            " 0.68293117 0.70113968 0.70105063 0.70510193 0.71636539 0.74703941\n",
            " 0.74481343 0.72549193 0.73061166 0.73417324 0.74338884 0.7353308\n",
            " 0.72095091 0.72535838 0.7207283  0.7356424  0.73056716 0.7258036\n",
            " 0.74873118 0.75149138 0.72642687 0.73470753 0.76226512 0.76248773\n",
            " 0.75064549 0.76235418 0.77597718 0.80322324 0.80170952 0.79926099\n",
            " 0.79503157 0.79908288 0.80411362 0.82236663 0.8199181  0.83425336\n",
            " 0.83603418 0.84939007 0.86038643 0.83474308 0.83460952 0.85909532\n",
            " 0.89052624 0.89800551 0.8963583  0.89684795 0.90659776 0.90975875\n",
            " 0.91892979 0.91786122 0.92903569 0.92088866 0.93477877 0.94074438\n",
            " 0.9371383  0.92333719 0.9180839  0.9170599  0.9374944  0.92823437\n",
            " 0.94403879 0.94141215 0.9276556  0.90668689 0.91688179 0.93397731\n",
            " 0.9568159  0.93994306 0.94688811 0.95708301 0.96015487 0.97658263\n",
            " 0.99755134 1.         0.96593231 0.95733237 0.9389472  0.91844964\n",
            " 0.89900512 0.8815704  0.86613888 0.85226333 0.83931631 0.82666129\n",
            " 0.81376982 0.80028486 0.78603297 0.77100152 0.75529289 0.73907393\n",
            " 0.72253197 0.70583981 0.68913591 0.67251688]\n",
            "20 day output [[0.65603906]]\n",
            "21 day input [0.6605378  0.66663697 0.68212978 0.6809278  0.66739379 0.68293117\n",
            " 0.70113968 0.70105063 0.70510193 0.71636539 0.74703941 0.74481343\n",
            " 0.72549193 0.73061166 0.73417324 0.74338884 0.7353308  0.72095091\n",
            " 0.72535838 0.7207283  0.7356424  0.73056716 0.7258036  0.74873118\n",
            " 0.75149138 0.72642687 0.73470753 0.76226512 0.76248773 0.75064549\n",
            " 0.76235418 0.77597718 0.80322324 0.80170952 0.79926099 0.79503157\n",
            " 0.79908288 0.80411362 0.82236663 0.8199181  0.83425336 0.83603418\n",
            " 0.84939007 0.86038643 0.83474308 0.83460952 0.85909532 0.89052624\n",
            " 0.89800551 0.8963583  0.89684795 0.90659776 0.90975875 0.91892979\n",
            " 0.91786122 0.92903569 0.92088866 0.93477877 0.94074438 0.9371383\n",
            " 0.92333719 0.9180839  0.9170599  0.9374944  0.92823437 0.94403879\n",
            " 0.94141215 0.9276556  0.90668689 0.91688179 0.93397731 0.9568159\n",
            " 0.93994306 0.94688811 0.95708301 0.96015487 0.97658263 0.99755134\n",
            " 1.         0.96593231 0.95733237 0.9389472  0.91844964 0.89900512\n",
            " 0.8815704  0.86613888 0.85226333 0.83931631 0.82666129 0.81376982\n",
            " 0.80028486 0.78603297 0.77100152 0.75529289 0.73907393 0.72253197\n",
            " 0.70583981 0.68913591 0.67251688 0.65603906]\n",
            "21 day output [[0.6397269]]\n",
            "22 day input [0.66663697 0.68212978 0.6809278  0.66739379 0.68293117 0.70113968\n",
            " 0.70105063 0.70510193 0.71636539 0.74703941 0.74481343 0.72549193\n",
            " 0.73061166 0.73417324 0.74338884 0.7353308  0.72095091 0.72535838\n",
            " 0.7207283  0.7356424  0.73056716 0.7258036  0.74873118 0.75149138\n",
            " 0.72642687 0.73470753 0.76226512 0.76248773 0.75064549 0.76235418\n",
            " 0.77597718 0.80322324 0.80170952 0.79926099 0.79503157 0.79908288\n",
            " 0.80411362 0.82236663 0.8199181  0.83425336 0.83603418 0.84939007\n",
            " 0.86038643 0.83474308 0.83460952 0.85909532 0.89052624 0.89800551\n",
            " 0.8963583  0.89684795 0.90659776 0.90975875 0.91892979 0.91786122\n",
            " 0.92903569 0.92088866 0.93477877 0.94074438 0.9371383  0.92333719\n",
            " 0.9180839  0.9170599  0.9374944  0.92823437 0.94403879 0.94141215\n",
            " 0.9276556  0.90668689 0.91688179 0.93397731 0.9568159  0.93994306\n",
            " 0.94688811 0.95708301 0.96015487 0.97658263 0.99755134 1.\n",
            " 0.96593231 0.95733237 0.9389472  0.91844964 0.89900512 0.8815704\n",
            " 0.86613888 0.85226333 0.83931631 0.82666129 0.81376982 0.80028486\n",
            " 0.78603297 0.77100152 0.75529289 0.73907393 0.72253197 0.70583981\n",
            " 0.68913591 0.67251688 0.65603906 0.63972688]\n",
            "22 day output [[0.62358373]]\n",
            "23 day input [0.68212978 0.6809278  0.66739379 0.68293117 0.70113968 0.70105063\n",
            " 0.70510193 0.71636539 0.74703941 0.74481343 0.72549193 0.73061166\n",
            " 0.73417324 0.74338884 0.7353308  0.72095091 0.72535838 0.7207283\n",
            " 0.7356424  0.73056716 0.7258036  0.74873118 0.75149138 0.72642687\n",
            " 0.73470753 0.76226512 0.76248773 0.75064549 0.76235418 0.77597718\n",
            " 0.80322324 0.80170952 0.79926099 0.79503157 0.79908288 0.80411362\n",
            " 0.82236663 0.8199181  0.83425336 0.83603418 0.84939007 0.86038643\n",
            " 0.83474308 0.83460952 0.85909532 0.89052624 0.89800551 0.8963583\n",
            " 0.89684795 0.90659776 0.90975875 0.91892979 0.91786122 0.92903569\n",
            " 0.92088866 0.93477877 0.94074438 0.9371383  0.92333719 0.9180839\n",
            " 0.9170599  0.9374944  0.92823437 0.94403879 0.94141215 0.9276556\n",
            " 0.90668689 0.91688179 0.93397731 0.9568159  0.93994306 0.94688811\n",
            " 0.95708301 0.96015487 0.97658263 0.99755134 1.         0.96593231\n",
            " 0.95733237 0.9389472  0.91844964 0.89900512 0.8815704  0.86613888\n",
            " 0.85226333 0.83931631 0.82666129 0.81376982 0.80028486 0.78603297\n",
            " 0.77100152 0.75529289 0.73907393 0.72253197 0.70583981 0.68913591\n",
            " 0.67251688 0.65603906 0.63972688 0.62358373]\n",
            "23 day output [[0.6076035]]\n",
            "24 day input [0.6809278  0.66739379 0.68293117 0.70113968 0.70105063 0.70510193\n",
            " 0.71636539 0.74703941 0.74481343 0.72549193 0.73061166 0.73417324\n",
            " 0.74338884 0.7353308  0.72095091 0.72535838 0.7207283  0.7356424\n",
            " 0.73056716 0.7258036  0.74873118 0.75149138 0.72642687 0.73470753\n",
            " 0.76226512 0.76248773 0.75064549 0.76235418 0.77597718 0.80322324\n",
            " 0.80170952 0.79926099 0.79503157 0.79908288 0.80411362 0.82236663\n",
            " 0.8199181  0.83425336 0.83603418 0.84939007 0.86038643 0.83474308\n",
            " 0.83460952 0.85909532 0.89052624 0.89800551 0.8963583  0.89684795\n",
            " 0.90659776 0.90975875 0.91892979 0.91786122 0.92903569 0.92088866\n",
            " 0.93477877 0.94074438 0.9371383  0.92333719 0.9180839  0.9170599\n",
            " 0.9374944  0.92823437 0.94403879 0.94141215 0.9276556  0.90668689\n",
            " 0.91688179 0.93397731 0.9568159  0.93994306 0.94688811 0.95708301\n",
            " 0.96015487 0.97658263 0.99755134 1.         0.96593231 0.95733237\n",
            " 0.9389472  0.91844964 0.89900512 0.8815704  0.86613888 0.85226333\n",
            " 0.83931631 0.82666129 0.81376982 0.80028486 0.78603297 0.77100152\n",
            " 0.75529289 0.73907393 0.72253197 0.70583981 0.68913591 0.67251688\n",
            " 0.65603906 0.63972688 0.62358373 0.60760349]\n",
            "24 day output [[0.5917792]]\n",
            "25 day input [0.66739379 0.68293117 0.70113968 0.70105063 0.70510193 0.71636539\n",
            " 0.74703941 0.74481343 0.72549193 0.73061166 0.73417324 0.74338884\n",
            " 0.7353308  0.72095091 0.72535838 0.7207283  0.7356424  0.73056716\n",
            " 0.7258036  0.74873118 0.75149138 0.72642687 0.73470753 0.76226512\n",
            " 0.76248773 0.75064549 0.76235418 0.77597718 0.80322324 0.80170952\n",
            " 0.79926099 0.79503157 0.79908288 0.80411362 0.82236663 0.8199181\n",
            " 0.83425336 0.83603418 0.84939007 0.86038643 0.83474308 0.83460952\n",
            " 0.85909532 0.89052624 0.89800551 0.8963583  0.89684795 0.90659776\n",
            " 0.90975875 0.91892979 0.91786122 0.92903569 0.92088866 0.93477877\n",
            " 0.94074438 0.9371383  0.92333719 0.9180839  0.9170599  0.9374944\n",
            " 0.92823437 0.94403879 0.94141215 0.9276556  0.90668689 0.91688179\n",
            " 0.93397731 0.9568159  0.93994306 0.94688811 0.95708301 0.96015487\n",
            " 0.97658263 0.99755134 1.         0.96593231 0.95733237 0.9389472\n",
            " 0.91844964 0.89900512 0.8815704  0.86613888 0.85226333 0.83931631\n",
            " 0.82666129 0.81376982 0.80028486 0.78603297 0.77100152 0.75529289\n",
            " 0.73907393 0.72253197 0.70583981 0.68913591 0.67251688 0.65603906\n",
            " 0.63972688 0.62358373 0.60760349 0.59177917]\n",
            "25 day output [[0.576111]]\n",
            "26 day input [0.68293117 0.70113968 0.70105063 0.70510193 0.71636539 0.74703941\n",
            " 0.74481343 0.72549193 0.73061166 0.73417324 0.74338884 0.7353308\n",
            " 0.72095091 0.72535838 0.7207283  0.7356424  0.73056716 0.7258036\n",
            " 0.74873118 0.75149138 0.72642687 0.73470753 0.76226512 0.76248773\n",
            " 0.75064549 0.76235418 0.77597718 0.80322324 0.80170952 0.79926099\n",
            " 0.79503157 0.79908288 0.80411362 0.82236663 0.8199181  0.83425336\n",
            " 0.83603418 0.84939007 0.86038643 0.83474308 0.83460952 0.85909532\n",
            " 0.89052624 0.89800551 0.8963583  0.89684795 0.90659776 0.90975875\n",
            " 0.91892979 0.91786122 0.92903569 0.92088866 0.93477877 0.94074438\n",
            " 0.9371383  0.92333719 0.9180839  0.9170599  0.9374944  0.92823437\n",
            " 0.94403879 0.94141215 0.9276556  0.90668689 0.91688179 0.93397731\n",
            " 0.9568159  0.93994306 0.94688811 0.95708301 0.96015487 0.97658263\n",
            " 0.99755134 1.         0.96593231 0.95733237 0.9389472  0.91844964\n",
            " 0.89900512 0.8815704  0.86613888 0.85226333 0.83931631 0.82666129\n",
            " 0.81376982 0.80028486 0.78603297 0.77100152 0.75529289 0.73907393\n",
            " 0.72253197 0.70583981 0.68913591 0.67251688 0.65603906 0.63972688\n",
            " 0.62358373 0.60760349 0.59177917 0.57611102]\n",
            "26 day output [[0.5606092]]\n",
            "27 day input [0.70113968 0.70105063 0.70510193 0.71636539 0.74703941 0.74481343\n",
            " 0.72549193 0.73061166 0.73417324 0.74338884 0.7353308  0.72095091\n",
            " 0.72535838 0.7207283  0.7356424  0.73056716 0.7258036  0.74873118\n",
            " 0.75149138 0.72642687 0.73470753 0.76226512 0.76248773 0.75064549\n",
            " 0.76235418 0.77597718 0.80322324 0.80170952 0.79926099 0.79503157\n",
            " 0.79908288 0.80411362 0.82236663 0.8199181  0.83425336 0.83603418\n",
            " 0.84939007 0.86038643 0.83474308 0.83460952 0.85909532 0.89052624\n",
            " 0.89800551 0.8963583  0.89684795 0.90659776 0.90975875 0.91892979\n",
            " 0.91786122 0.92903569 0.92088866 0.93477877 0.94074438 0.9371383\n",
            " 0.92333719 0.9180839  0.9170599  0.9374944  0.92823437 0.94403879\n",
            " 0.94141215 0.9276556  0.90668689 0.91688179 0.93397731 0.9568159\n",
            " 0.93994306 0.94688811 0.95708301 0.96015487 0.97658263 0.99755134\n",
            " 1.         0.96593231 0.95733237 0.9389472  0.91844964 0.89900512\n",
            " 0.8815704  0.86613888 0.85226333 0.83931631 0.82666129 0.81376982\n",
            " 0.80028486 0.78603297 0.77100152 0.75529289 0.73907393 0.72253197\n",
            " 0.70583981 0.68913591 0.67251688 0.65603906 0.63972688 0.62358373\n",
            " 0.60760349 0.59177917 0.57611102 0.56060922]\n",
            "27 day output [[0.54529655]]\n",
            "28 day input [0.70105063 0.70510193 0.71636539 0.74703941 0.74481343 0.72549193\n",
            " 0.73061166 0.73417324 0.74338884 0.7353308  0.72095091 0.72535838\n",
            " 0.7207283  0.7356424  0.73056716 0.7258036  0.74873118 0.75149138\n",
            " 0.72642687 0.73470753 0.76226512 0.76248773 0.75064549 0.76235418\n",
            " 0.77597718 0.80322324 0.80170952 0.79926099 0.79503157 0.79908288\n",
            " 0.80411362 0.82236663 0.8199181  0.83425336 0.83603418 0.84939007\n",
            " 0.86038643 0.83474308 0.83460952 0.85909532 0.89052624 0.89800551\n",
            " 0.8963583  0.89684795 0.90659776 0.90975875 0.91892979 0.91786122\n",
            " 0.92903569 0.92088866 0.93477877 0.94074438 0.9371383  0.92333719\n",
            " 0.9180839  0.9170599  0.9374944  0.92823437 0.94403879 0.94141215\n",
            " 0.9276556  0.90668689 0.91688179 0.93397731 0.9568159  0.93994306\n",
            " 0.94688811 0.95708301 0.96015487 0.97658263 0.99755134 1.\n",
            " 0.96593231 0.95733237 0.9389472  0.91844964 0.89900512 0.8815704\n",
            " 0.86613888 0.85226333 0.83931631 0.82666129 0.81376982 0.80028486\n",
            " 0.78603297 0.77100152 0.75529289 0.73907393 0.72253197 0.70583981\n",
            " 0.68913591 0.67251688 0.65603906 0.63972688 0.62358373 0.60760349\n",
            " 0.59177917 0.57611102 0.56060922 0.54529655]\n",
            "28 day output [[0.53020674]]\n",
            "29 day input [0.70510193 0.71636539 0.74703941 0.74481343 0.72549193 0.73061166\n",
            " 0.73417324 0.74338884 0.7353308  0.72095091 0.72535838 0.7207283\n",
            " 0.7356424  0.73056716 0.7258036  0.74873118 0.75149138 0.72642687\n",
            " 0.73470753 0.76226512 0.76248773 0.75064549 0.76235418 0.77597718\n",
            " 0.80322324 0.80170952 0.79926099 0.79503157 0.79908288 0.80411362\n",
            " 0.82236663 0.8199181  0.83425336 0.83603418 0.84939007 0.86038643\n",
            " 0.83474308 0.83460952 0.85909532 0.89052624 0.89800551 0.8963583\n",
            " 0.89684795 0.90659776 0.90975875 0.91892979 0.91786122 0.92903569\n",
            " 0.92088866 0.93477877 0.94074438 0.9371383  0.92333719 0.9180839\n",
            " 0.9170599  0.9374944  0.92823437 0.94403879 0.94141215 0.9276556\n",
            " 0.90668689 0.91688179 0.93397731 0.9568159  0.93994306 0.94688811\n",
            " 0.95708301 0.96015487 0.97658263 0.99755134 1.         0.96593231\n",
            " 0.95733237 0.9389472  0.91844964 0.89900512 0.8815704  0.86613888\n",
            " 0.85226333 0.83931631 0.82666129 0.81376982 0.80028486 0.78603297\n",
            " 0.77100152 0.75529289 0.73907393 0.72253197 0.70583981 0.68913591\n",
            " 0.67251688 0.65603906 0.63972688 0.62358373 0.60760349 0.59177917\n",
            " 0.57611102 0.56060922 0.54529655 0.53020674]\n",
            "29 day output [[0.5153829]]\n",
            "[[0.965932309627533], [0.9573323726654053], [0.9389472007751465], [0.9184496402740479], [0.899005115032196], [0.8815703988075256], [0.8661388754844666], [0.852263331413269], [0.8393163084983826], [0.8266612887382507], [0.8137698173522949], [0.8002848625183105], [0.7860329747200012], [0.7710015177726746], [0.7552928924560547], [0.7390739321708679], [0.7225319743156433], [0.7058398127555847], [0.6891359090805054], [0.6725168824195862], [0.6560390591621399], [0.6397268772125244], [0.6235837340354919], [0.6076034903526306], [0.5917791724205017], [0.5761110186576843], [0.5606092214584351], [0.5452965497970581], [0.5302067399024963], [0.5153828859329224]]\n"
          ],
          "name": "stdout"
        }
      ]
    },
    {
      "cell_type": "code",
      "metadata": {
        "id": "8fermABp7mTt"
      },
      "source": [
        "day_new=np.arange(1,101)\n",
        "day_pred=np.arange(101,131)\n"
      ],
      "execution_count": 35,
      "outputs": []
    },
    {
      "cell_type": "code",
      "metadata": {
        "colab": {
          "base_uri": "https://localhost:8080/",
          "height": 299
        },
        "id": "9m6lCvP-7uVj",
        "outputId": "e9a46b3a-6971-403d-c646-b1d12de39a65"
      },
      "source": [
        "plt.plot(day_new,scalar.inverse_transform(df1[1903:]))\n",
        "plt.plot(day_pred,scalar.inverse_transform(lst_output))"
      ],
      "execution_count": 54,
      "outputs": [
        {
          "output_type": "execute_result",
          "data": {
            "text/plain": [
              "[<matplotlib.lines.Line2D at 0x7f624ea2d8d0>]"
            ]
          },
          "metadata": {
            "tags": []
          },
          "execution_count": 54
        },
        {
          "output_type": "display_data",
          "data": {
            "image/png": "[encoded data removed]",
            "text/plain": [
              "<Figure size 432x288 with 1 Axes>"
            ]
          },
          "metadata": {
            "tags": []
          }
        }
      ]
    },
    {
      "cell_type": "code",
      "metadata": {
        "colab": {
          "base_uri": "https://localhost:8080/",
          "height": 299
        },
        "id": "qR-Z0p_y7xnc",
        "outputId": "7a08302f-2742-4eb2-8066-6688e8baa842"
      },
      "source": [
        "df3=df1.tolist()\n",
        "df3.extend(lst_output)\n",
        "plt.plot(df3[1950:])\n"
      ],
      "execution_count": 57,
      "outputs": [
        {
          "output_type": "execute_result",
          "data": {
            "text/plain": [
              "[<matplotlib.lines.Line2D at 0x7f624ecb8350>]"
            ]
          },
          "metadata": {
            "tags": []
          },
          "execution_count": 57
        },
        {
          "output_type": "display_data",
          "data": {
            "image/png": "[encoded data removed]",
            "text/plain": [
              "<Figure size 432x288 with 1 Axes>"
            ]
          },
          "metadata": {
            "tags": []
          }
        }
      ]
    },
    {
      "cell_type": "code",
      "metadata": {
        "id": "rd61fYlR750g"
      },
      "source": [
        "df3=scalar.inverse_transform(df3).tolist()"
      ],
      "execution_count": 58,
      "outputs": []
    },
    {
      "cell_type": "code",
      "metadata": {
        "colab": {
          "base_uri": "https://localhost:8080/",
          "height": 299
        },
        "id": "56sK2JyU76qF",
        "outputId": "b9a2f27c-39bc-4e5d-b710-943aa6df3284"
      },
      "source": [
        "plt.plot(df3)"
      ],
      "execution_count": 59,
      "outputs": [
        {
          "output_type": "execute_result",
          "data": {
            "text/plain": [
              "[<matplotlib.lines.Line2D at 0x7f624e964f10>]"
            ]
          },
          "metadata": {
            "tags": []
          },
          "execution_count": 59
        },
        {
          "output_type": "display_data",
          "data": {
            "image/png": "[encoded data removed]",
            "text/plain": [
              "<Figure size 432x288 with 1 Axes>"
            ]
          },
          "metadata": {
            "tags": []
          }
        }
      ]
    },
    {
      "cell_type": "code",
      "metadata": {
        "id": "b1-opkGm79Ji"
      },
      "source": [
        ""
      ],
      "execution_count": 48,
      "outputs": []
    }
  ]
}
