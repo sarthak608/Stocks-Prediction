{
  "nbformat": 4,
  "nbformat_minor": 0,
  "metadata": {
    "colab": {
      "name": "Stock_Forecasting_Model.ipynb",
      "provenance": []
    },
    "kernelspec": {
      "name": "python3",
      "display_name": "Python 3"
    }
  },
  "cells": [
    {
      "cell_type": "code",
      "metadata": {
        "id": "3YtRWpO3KKdf"
      },
      "source": [
        "# Import the libraries\r\n",
        "import math\r\n",
        "import pandas_datareader as web\r\n",
        "import numpy as np\r\n",
        "import pandas as pd\r\n",
        "import tensorflow as tf\r\n",
        "from sklearn.preprocessing import MinMaxScaler\r\n",
        "from sklearn.metrics import mean_squared_error\r\n",
        "from keras.models import Sequential\r\n",
        "from keras.layers import Dense, LSTM\r\n",
        "import matplotlib.pyplot as plt\r\n",
        "plt.style.use('fivethirtyeight')\r\n"
      ],
      "execution_count": null,
      "outputs": []
    },
    {
      "cell_type": "code",
      "metadata": {
        "colab": {
          "base_uri": "https://localhost:8080/",
          "height": 431
        },
        "id": "qffMcxmhLFXZ",
        "outputId": "3d32e0b7-93a1-43d6-908b-40f873093a1a"
      },
      "source": [
        "df = web.DataReader('AAPL', data_source='yahoo', start='2012-01-01', end='2019-12-17')\r\n",
        "df\r\n"
      ],
      "execution_count": null,
      "outputs": [
        {
          "output_type": "execute_result",
          "data": {
            "text/html": [
              "<div>\n",
              "<style scoped>\n",
              "    .dataframe tbody tr th:only-of-type {\n",
              "        vertical-align: middle;\n",
              "    }\n",
              "\n",
              "    .dataframe tbody tr th {\n",
              "        vertical-align: top;\n",
              "    }\n",
              "\n",
              "    .dataframe thead th {\n",
              "        text-align: right;\n",
              "    }\n",
              "</style>\n",
              "<table border=\"1\" class=\"dataframe\">\n",
              "  <thead>\n",
              "    <tr style=\"text-align: right;\">\n",
              "      <th></th>\n",
              "      <th>High</th>\n",
              "      <th>Low</th>\n",
              "      <th>Open</th>\n",
              "      <th>Close</th>\n",
              "      <th>Volume</th>\n",
              "      <th>Adj Close</th>\n",
              "    </tr>\n",
              "    <tr>\n",
              "      <th>Date</th>\n",
              "      <th></th>\n",
              "      <th></th>\n",
              "      <th></th>\n",
              "      <th></th>\n",
              "      <th></th>\n",
              "      <th></th>\n",
              "    </tr>\n",
              "  </thead>\n",
              "  <tbody>\n",
              "    <tr>\n",
              "      <th>2012-01-03</th>\n",
              "      <td>14.732143</td>\n",
              "      <td>14.607143</td>\n",
              "      <td>14.621429</td>\n",
              "      <td>14.686786</td>\n",
              "      <td>302220800.0</td>\n",
              "      <td>12.669562</td>\n",
              "    </tr>\n",
              "    <tr>\n",
              "      <th>2012-01-04</th>\n",
              "      <td>14.810000</td>\n",
              "      <td>14.617143</td>\n",
              "      <td>14.642857</td>\n",
              "      <td>14.765714</td>\n",
              "      <td>260022000.0</td>\n",
              "      <td>12.737653</td>\n",
              "    </tr>\n",
              "    <tr>\n",
              "      <th>2012-01-05</th>\n",
              "      <td>14.948214</td>\n",
              "      <td>14.738214</td>\n",
              "      <td>14.819643</td>\n",
              "      <td>14.929643</td>\n",
              "      <td>271269600.0</td>\n",
              "      <td>12.879066</td>\n",
              "    </tr>\n",
              "    <tr>\n",
              "      <th>2012-01-06</th>\n",
              "      <td>15.098214</td>\n",
              "      <td>14.972143</td>\n",
              "      <td>14.991786</td>\n",
              "      <td>15.085714</td>\n",
              "      <td>318292800.0</td>\n",
              "      <td>13.013701</td>\n",
              "    </tr>\n",
              "    <tr>\n",
              "      <th>2012-01-09</th>\n",
              "      <td>15.276786</td>\n",
              "      <td>15.048214</td>\n",
              "      <td>15.196429</td>\n",
              "      <td>15.061786</td>\n",
              "      <td>394024400.0</td>\n",
              "      <td>12.993060</td>\n",
              "    </tr>\n",
              "    <tr>\n",
              "      <th>...</th>\n",
              "      <td>...</td>\n",
              "      <td>...</td>\n",
              "      <td>...</td>\n",
              "      <td>...</td>\n",
              "      <td>...</td>\n",
              "      <td>...</td>\n",
              "    </tr>\n",
              "    <tr>\n",
              "      <th>2019-12-11</th>\n",
              "      <td>67.775002</td>\n",
              "      <td>67.125000</td>\n",
              "      <td>67.202499</td>\n",
              "      <td>67.692497</td>\n",
              "      <td>78756800.0</td>\n",
              "      <td>67.112915</td>\n",
              "    </tr>\n",
              "    <tr>\n",
              "      <th>2019-12-12</th>\n",
              "      <td>68.139999</td>\n",
              "      <td>66.830002</td>\n",
              "      <td>66.945000</td>\n",
              "      <td>67.864998</td>\n",
              "      <td>137310400.0</td>\n",
              "      <td>67.283928</td>\n",
              "    </tr>\n",
              "    <tr>\n",
              "      <th>2019-12-13</th>\n",
              "      <td>68.824997</td>\n",
              "      <td>67.732498</td>\n",
              "      <td>67.864998</td>\n",
              "      <td>68.787498</td>\n",
              "      <td>133587600.0</td>\n",
              "      <td>68.198540</td>\n",
              "    </tr>\n",
              "    <tr>\n",
              "      <th>2019-12-16</th>\n",
              "      <td>70.197502</td>\n",
              "      <td>69.245003</td>\n",
              "      <td>69.250000</td>\n",
              "      <td>69.964996</td>\n",
              "      <td>128186000.0</td>\n",
              "      <td>69.365952</td>\n",
              "    </tr>\n",
              "    <tr>\n",
              "      <th>2019-12-17</th>\n",
              "      <td>70.442497</td>\n",
              "      <td>69.699997</td>\n",
              "      <td>69.892502</td>\n",
              "      <td>70.102501</td>\n",
              "      <td>114158400.0</td>\n",
              "      <td>69.502274</td>\n",
              "    </tr>\n",
              "  </tbody>\n",
              "</table>\n",
              "<p>2003 rows × 6 columns</p>\n",
              "</div>"
            ],
            "text/plain": [
              "                 High        Low       Open      Close       Volume  Adj Close\n",
              "Date                                                                          \n",
              "2012-01-03  14.732143  14.607143  14.621429  14.686786  302220800.0  12.669562\n",
              "2012-01-04  14.810000  14.617143  14.642857  14.765714  260022000.0  12.737653\n",
              "2012-01-05  14.948214  14.738214  14.819643  14.929643  271269600.0  12.879066\n",
              "2012-01-06  15.098214  14.972143  14.991786  15.085714  318292800.0  13.013701\n",
              "2012-01-09  15.276786  15.048214  15.196429  15.061786  394024400.0  12.993060\n",
              "...               ...        ...        ...        ...          ...        ...\n",
              "2019-12-11  67.775002  67.125000  67.202499  67.692497   78756800.0  67.112915\n",
              "2019-12-12  68.139999  66.830002  66.945000  67.864998  137310400.0  67.283928\n",
              "2019-12-13  68.824997  67.732498  67.864998  68.787498  133587600.0  68.198540\n",
              "2019-12-16  70.197502  69.245003  69.250000  69.964996  128186000.0  69.365952\n",
              "2019-12-17  70.442497  69.699997  69.892502  70.102501  114158400.0  69.502274\n",
              "\n",
              "[2003 rows x 6 columns]"
            ]
          },
          "metadata": {
            "tags": []
          },
          "execution_count": 11
        }
      ]
    },
    {
      "cell_type": "code",
      "metadata": {
        "colab": {
          "base_uri": "https://localhost:8080/"
        },
        "id": "fv7RWJiwLypg",
        "outputId": "5b7d82a8-f4de-41c8-ae98-07646f3926da"
      },
      "source": [
        "df.shape"
      ],
      "execution_count": null,
      "outputs": [
        {
          "output_type": "execute_result",
          "data": {
            "text/plain": [
              "(2003, 6)"
            ]
          },
          "metadata": {
            "tags": []
          },
          "execution_count": 13
        }
      ]
    },
    {
      "cell_type": "code",
      "metadata": {
        "colab": {
          "base_uri": "https://localhost:8080/",
          "height": 299
        },
        "id": "Kqk9uO9kMph8",
        "outputId": "2630cfab-9101-4bff-c7de-dbe05d08acca"
      },
      "source": [
        "\r\n",
        "plt.plot(df['Close'])"
      ],
      "execution_count": null,
      "outputs": [
        {
          "output_type": "execute_result",
          "data": {
            "text/plain": [
              "[<matplotlib.lines.Line2D at 0x7f1e351ca278>]"
            ]
          },
          "metadata": {
            "tags": []
          },
          "execution_count": 15
        },
        {
          "output_type": "display_data",
          "data": {
            "image/png": "[encoded data removed]",
            "text/plain": [
              "<Figure size 432x288 with 1 Axes>"
            ]
          },
          "metadata": {
            "tags": []
          }
        }
      ]
    },
    {
      "cell_type": "code",
      "metadata": {
        "colab": {
          "base_uri": "https://localhost:8080/"
        },
        "id": "-JFWJVpFNWwd",
        "outputId": "1d6ff04c-5063-4933-ed79-eed34f12dd6e"
      },
      "source": [
        "df1=df.reset_index()['Close']\r\n",
        "df1"
      ],
      "execution_count": null,
      "outputs": [
        {
          "output_type": "execute_result",
          "data": {
            "text/plain": [
              "0       14.686786\n",
              "1       14.765714\n",
              "2       14.929643\n",
              "3       15.085714\n",
              "4       15.061786\n",
              "          ...    \n",
              "1998    67.692497\n",
              "1999    67.864998\n",
              "2000    68.787498\n",
              "2001    69.964996\n",
              "2002    70.102501\n",
              "Name: Close, Length: 2003, dtype: float64"
            ]
          },
          "metadata": {
            "tags": []
          },
          "execution_count": 17
        }
      ]
    },
    {
      "cell_type": "code",
      "metadata": {
        "colab": {
          "base_uri": "https://localhost:8080/"
        },
        "id": "XZY-S-JmOGbt",
        "outputId": "c41f932d-2471-4e8c-b1bc-4b4b6846f6d5"
      },
      "source": [
        "df1.shape"
      ],
      "execution_count": null,
      "outputs": [
        {
          "output_type": "execute_result",
          "data": {
            "text/plain": [
              "(2003,)"
            ]
          },
          "metadata": {
            "tags": []
          },
          "execution_count": 18
        }
      ]
    },
    {
      "cell_type": "code",
      "metadata": {
        "id": "3RG2LwHFOwfZ"
      },
      "source": [
        "df1=np.array(df1).reshape(-1,1)"
      ],
      "execution_count": null,
      "outputs": []
    },
    {
      "cell_type": "code",
      "metadata": {
        "colab": {
          "base_uri": "https://localhost:8080/"
        },
        "id": "Plwij3uSPbav",
        "outputId": "0e5d8576-56d1-4dc0-a6b7-d7f6032c9e63"
      },
      "source": [
        "df1.shape"
      ],
      "execution_count": null,
      "outputs": [
        {
          "output_type": "execute_result",
          "data": {
            "text/plain": [
              "(2003, 1)"
            ]
          },
          "metadata": {
            "tags": []
          },
          "execution_count": 24
        }
      ]
    },
    {
      "cell_type": "code",
      "metadata": {
        "colab": {
          "base_uri": "https://localhost:8080/"
        },
        "id": "ASiYuu6CPrH6",
        "outputId": "123459d4-6aca-40e4-e774-5ce7d4a02b4a"
      },
      "source": [
        "df1"
      ],
      "execution_count": null,
      "outputs": [
        {
          "output_type": "execute_result",
          "data": {
            "text/plain": [
              "array([[14.6867857 ],\n",
              "       [14.76571369],\n",
              "       [14.92964268],\n",
              "       ...,\n",
              "       [68.78749847],\n",
              "       [69.96499634],\n",
              "       [70.10250092]])"
            ]
          },
          "metadata": {
            "tags": []
          },
          "execution_count": 25
        }
      ]
    },
    {
      "cell_type": "code",
      "metadata": {
        "id": "UtS8OxVcON8C"
      },
      "source": [
        "scalar=MinMaxScaler(feature_range=(0,1))\r\n",
        "df1=scalar.fit_transform(df1)\r\n"
      ],
      "execution_count": null,
      "outputs": []
    },
    {
      "cell_type": "code",
      "metadata": {
        "colab": {
          "base_uri": "https://localhost:8080/"
        },
        "id": "ACikB_xbPy9W",
        "outputId": "bef4704c-96e2-4020-b693-e69d23dc7fc9"
      },
      "source": [
        "df1"
      ],
      "execution_count": null,
      "outputs": [
        {
          "output_type": "execute_result",
          "data": {
            "text/plain": [
              "array([[0.01316509],\n",
              "       [0.01457063],\n",
              "       [0.01748985],\n",
              "       ...,\n",
              "       [0.97658263],\n",
              "       [0.99755134],\n",
              "       [1.        ]])"
            ]
          },
          "metadata": {
            "tags": []
          },
          "execution_count": 27
        }
      ]
    },
    {
      "cell_type": "code",
      "metadata": {
        "id": "HQnCkF4XPz-Q"
      },
      "source": [
        "# split b/w test data and train data\r\n",
        "training_size=int(len(df1)*0.65)\r\n",
        "test_size=len(df1)-training_size\r\n",
        "train_data, test_data=df1[0:training_size,:],df1[training_size:len(df1),:1]\r\n",
        "\r\n"
      ],
      "execution_count": null,
      "outputs": []
    },
    {
      "cell_type": "code",
      "metadata": {
        "colab": {
          "base_uri": "https://localhost:8080/"
        },
        "id": "tu0z4nwUR-i1",
        "outputId": "46071817-e50d-48a3-add0-129496f54839"
      },
      "source": [
        "train_data.shape"
      ],
      "execution_count": null,
      "outputs": [
        {
          "output_type": "execute_result",
          "data": {
            "text/plain": [
              "(1301, 1)"
            ]
          },
          "metadata": {
            "tags": []
          },
          "execution_count": 36
        }
      ]
    },
    {
      "cell_type": "code",
      "metadata": {
        "colab": {
          "base_uri": "https://localhost:8080/"
        },
        "id": "c6eM7dUoW9b6",
        "outputId": "083cab9f-8321-4f9a-d81c-b8c25e9f8dda"
      },
      "source": [
        "test_data.shape"
      ],
      "execution_count": null,
      "outputs": [
        {
          "output_type": "execute_result",
          "data": {
            "text/plain": [
              "(702, 1)"
            ]
          },
          "metadata": {
            "tags": []
          },
          "execution_count": 37
        }
      ]
    },
    {
      "cell_type": "code",
      "metadata": {
        "id": "mFd_4jdIW_ID"
      },
      "source": [
        "# Timeseries data\r\n",
        "\r\n",
        "def create_data (data, time_step=1):\r\n",
        "  data1,data2= [], []\r\n",
        "  for i in range(len(data)-time_step-1):\r\n",
        "    a = data[i:(i+time_step),0]\r\n",
        "    data1.append(a)\r\n",
        "    data2.append(data[i+time_step,0])\r\n",
        "  return np.array(data1), np.array(data2)\r\n",
        "  "
      ],
      "execution_count": null,
      "outputs": []
    },
    {
      "cell_type": "code",
      "metadata": {
        "id": "jxfFvohlh4z2"
      },
      "source": [
        "time_step=100\r\n",
        "x_train, y_train= create_data(train_data,time_step)"
      ],
      "execution_count": null,
      "outputs": []
    },
    {
      "cell_type": "code",
      "metadata": {
        "colab": {
          "base_uri": "https://localhost:8080/"
        },
        "id": "NNTy20nXiMNh",
        "outputId": "3d29f340-f467-4e48-dbc2-35a8618e98f4"
      },
      "source": [
        "x_train.shape"
      ],
      "execution_count": null,
      "outputs": [
        {
          "output_type": "execute_result",
          "data": {
            "text/plain": [
              "(1200, 100)"
            ]
          },
          "metadata": {
            "tags": []
          },
          "execution_count": 42
        }
      ]
    },
    {
      "cell_type": "code",
      "metadata": {
        "colab": {
          "base_uri": "https://localhost:8080/"
        },
        "id": "rgiflqj3iNzW",
        "outputId": "2efd8c67-69f2-49ca-c0ef-ba092d37d361"
      },
      "source": [
        "y_train"
      ],
      "execution_count": null,
      "outputs": [
        {
          "output_type": "execute_result",
          "data": {
            "text/plain": [
              "array([0.10923845, 0.11558567, 0.11997404, ..., 0.37396488, 0.37026981,\n",
              "       0.37392038])"
            ]
          },
          "metadata": {
            "tags": []
          },
          "execution_count": 50
        }
      ]
    },
    {
      "cell_type": "code",
      "metadata": {
        "id": "5cLHYBwWiO6X"
      },
      "source": [
        "x_test, y_test =create_data(test_data,time_step)"
      ],
      "execution_count": null,
      "outputs": []
    },
    {
      "cell_type": "code",
      "metadata": {
        "colab": {
          "base_uri": "https://localhost:8080/"
        },
        "id": "ttCf-hFtitVq",
        "outputId": "0b6a024b-074f-4279-91a5-d40b5a465067"
      },
      "source": [
        "x_test.shape"
      ],
      "execution_count": null,
      "outputs": [
        {
          "output_type": "execute_result",
          "data": {
            "text/plain": [
              "(601, 100)"
            ]
          },
          "metadata": {
            "tags": []
          },
          "execution_count": 47
        }
      ]
    },
    {
      "cell_type": "code",
      "metadata": {
        "colab": {
          "base_uri": "https://localhost:8080/"
        },
        "id": "daOo9_Dciu94",
        "outputId": "df22dfa3-56f5-4ae7-9463-7fe87d6c77fe"
      },
      "source": [
        "y_test.shape"
      ],
      "execution_count": null,
      "outputs": [
        {
          "output_type": "execute_result",
          "data": {
            "text/plain": [
              "(601,)"
            ]
          },
          "metadata": {
            "tags": []
          },
          "execution_count": 48
        }
      ]
    },
    {
      "cell_type": "code",
      "metadata": {
        "id": "OWg-5v6dtx3_"
      },
      "source": [
        "# reshape\r\n",
        "x_train=x_train.reshape(x_train.shape[0],x_train.shape[1],1)\r\n",
        "x_test=x_test.reshape(x_test.shape[0],x_test.shape[1],1)\r\n"
      ],
      "execution_count": null,
      "outputs": []
    },
    {
      "cell_type": "code",
      "metadata": {
        "id": "_yDBZok8jAgY"
      },
      "source": [
        "model=Sequential()\r\n",
        "model.add(LSTM(50,return_sequences=True,input_shape=(100,1)))\r\n",
        "model.add(LSTM(50,return_sequences=True))\r\n",
        "model.add(LSTM(50))\r\n",
        "model.add(Dense(1))\r\n",
        "model.compile(loss='mean_squared_error',optimizer='adam')"
      ],
      "execution_count": null,
      "outputs": []
    },
    {
      "cell_type": "code",
      "metadata": {
        "colab": {
          "base_uri": "https://localhost:8080/"
        },
        "id": "DaiHcMUPi04Y",
        "outputId": "ac9d5fc7-c30d-474a-a95b-c5729ce702b1"
      },
      "source": [
        "model.summary()"
      ],
      "execution_count": null,
      "outputs": [
        {
          "output_type": "stream",
          "text": [
            "Model: \"sequential_1\"\n",
            "_________________________________________________________________\n",
            "Layer (type)                 Output Shape              Param #   \n",
            "=================================================================\n",
            "lstm_3 (LSTM)                (None, 100, 50)           10400     \n",
            "_________________________________________________________________\n",
            "lstm_4 (LSTM)                (None, 100, 50)           20200     \n",
            "_________________________________________________________________\n",
            "lstm_5 (LSTM)                (None, 50)                20200     \n",
            "_________________________________________________________________\n",
            "dense_1 (Dense)              (None, 1)                 51        \n",
            "=================================================================\n",
            "Total params: 50,851\n",
            "Trainable params: 50,851\n",
            "Non-trainable params: 0\n",
            "_________________________________________________________________\n"
          ],
          "name": "stdout"
        }
      ]
    },
    {
      "cell_type": "code",
      "metadata": {
        "colab": {
          "base_uri": "https://localhost:8080/"
        },
        "id": "Ai2oWuH1i5sb",
        "outputId": "8b6d29a0-5ce3-4277-cc7f-99845fb17f26"
      },
      "source": [
        "model.fit(x_train,y_train,validation_data=(x_test,y_test),epochs=100,batch_size=64,verbose=1)"
      ],
      "execution_count": null,
      "outputs": [
        {
          "output_type": "stream",
          "text": [
            "Epoch 1/100\n",
            "19/19 [==============================] - 9s 243ms/step - loss: 0.0128 - val_loss: 0.0193\n",
            "Epoch 2/100\n",
            "19/19 [==============================] - 3s 178ms/step - loss: 0.0012 - val_loss: 0.0026\n",
            "Epoch 3/100\n",
            "19/19 [==============================] - 3s 176ms/step - loss: 4.7369e-04 - val_loss: 0.0027\n",
            "Epoch 4/100\n",
            "19/19 [==============================] - 3s 178ms/step - loss: 3.8137e-04 - val_loss: 0.0021\n",
            "Epoch 5/100\n",
            "19/19 [==============================] - 3s 180ms/step - loss: 3.7855e-04 - val_loss: 0.0025\n",
            "Epoch 6/100\n",
            "19/19 [==============================] - 3s 182ms/step - loss: 3.6216e-04 - val_loss: 0.0021\n",
            "Epoch 7/100\n",
            "19/19 [==============================] - 3s 178ms/step - loss: 3.5387e-04 - val_loss: 0.0025\n",
            "Epoch 8/100\n",
            "19/19 [==============================] - 3s 184ms/step - loss: 3.5816e-04 - val_loss: 0.0026\n",
            "Epoch 9/100\n",
            "19/19 [==============================] - 3s 180ms/step - loss: 3.3717e-04 - val_loss: 0.0032\n",
            "Epoch 10/100\n",
            "19/19 [==============================] - 3s 180ms/step - loss: 3.4949e-04 - val_loss: 0.0033\n",
            "Epoch 11/100\n",
            "19/19 [==============================] - 3s 183ms/step - loss: 3.4578e-04 - val_loss: 0.0016\n",
            "Epoch 12/100\n",
            "19/19 [==============================] - 4s 188ms/step - loss: 2.9980e-04 - val_loss: 0.0015\n",
            "Epoch 13/100\n",
            "19/19 [==============================] - 3s 178ms/step - loss: 2.7580e-04 - val_loss: 0.0020\n",
            "Epoch 14/100\n",
            "19/19 [==============================] - 3s 180ms/step - loss: 2.6652e-04 - val_loss: 0.0027\n",
            "Epoch 15/100\n",
            "19/19 [==============================] - 3s 181ms/step - loss: 2.7787e-04 - val_loss: 0.0052\n",
            "Epoch 16/100\n",
            "19/19 [==============================] - 3s 181ms/step - loss: 3.0111e-04 - val_loss: 0.0017\n",
            "Epoch 17/100\n",
            "19/19 [==============================] - 4s 187ms/step - loss: 2.6889e-04 - val_loss: 0.0027\n",
            "Epoch 18/100\n",
            "19/19 [==============================] - 3s 181ms/step - loss: 2.5705e-04 - val_loss: 0.0021\n",
            "Epoch 19/100\n",
            "19/19 [==============================] - 4s 187ms/step - loss: 2.3009e-04 - val_loss: 0.0044\n",
            "Epoch 20/100\n",
            "19/19 [==============================] - 3s 183ms/step - loss: 2.1334e-04 - val_loss: 0.0028\n",
            "Epoch 21/100\n",
            "19/19 [==============================] - 3s 183ms/step - loss: 2.2868e-04 - val_loss: 0.0021\n",
            "Epoch 22/100\n",
            "19/19 [==============================] - 3s 184ms/step - loss: 2.3104e-04 - val_loss: 0.0019\n",
            "Epoch 23/100\n",
            "19/19 [==============================] - 4s 184ms/step - loss: 2.0793e-04 - val_loss: 0.0014\n",
            "Epoch 24/100\n",
            "19/19 [==============================] - 4s 186ms/step - loss: 2.3626e-04 - val_loss: 0.0011\n",
            "Epoch 25/100\n",
            "19/19 [==============================] - 4s 189ms/step - loss: 2.9110e-04 - val_loss: 0.0031\n",
            "Epoch 26/100\n",
            "19/19 [==============================] - 4s 188ms/step - loss: 2.2414e-04 - val_loss: 0.0018\n",
            "Epoch 27/100\n",
            "19/19 [==============================] - 4s 186ms/step - loss: 2.2280e-04 - val_loss: 0.0041\n",
            "Epoch 28/100\n",
            "19/19 [==============================] - 4s 186ms/step - loss: 2.0884e-04 - val_loss: 0.0017\n",
            "Epoch 29/100\n",
            "19/19 [==============================] - 4s 191ms/step - loss: 1.9128e-04 - val_loss: 0.0015\n",
            "Epoch 30/100\n",
            "19/19 [==============================] - 4s 202ms/step - loss: 2.0080e-04 - val_loss: 0.0016\n",
            "Epoch 31/100\n",
            "19/19 [==============================] - 4s 200ms/step - loss: 1.9106e-04 - val_loss: 0.0015\n",
            "Epoch 32/100\n",
            "19/19 [==============================] - 4s 191ms/step - loss: 1.8420e-04 - val_loss: 8.4079e-04\n",
            "Epoch 33/100\n",
            "19/19 [==============================] - 4s 188ms/step - loss: 2.0478e-04 - val_loss: 0.0022\n",
            "Epoch 34/100\n",
            "19/19 [==============================] - 4s 188ms/step - loss: 1.9514e-04 - val_loss: 0.0011\n",
            "Epoch 35/100\n",
            "19/19 [==============================] - 4s 189ms/step - loss: 1.7332e-04 - val_loss: 0.0016\n",
            "Epoch 36/100\n",
            "19/19 [==============================] - 4s 192ms/step - loss: 1.7079e-04 - val_loss: 9.8823e-04\n",
            "Epoch 37/100\n",
            "19/19 [==============================] - 4s 188ms/step - loss: 2.0852e-04 - val_loss: 9.0750e-04\n",
            "Epoch 38/100\n",
            "19/19 [==============================] - 4s 188ms/step - loss: 1.8388e-04 - val_loss: 0.0017\n",
            "Epoch 39/100\n",
            "19/19 [==============================] - 4s 189ms/step - loss: 1.8922e-04 - val_loss: 0.0013\n",
            "Epoch 40/100\n",
            "19/19 [==============================] - 4s 187ms/step - loss: 1.7801e-04 - val_loss: 0.0026\n",
            "Epoch 41/100\n",
            "19/19 [==============================] - 4s 186ms/step - loss: 1.9711e-04 - val_loss: 8.9196e-04\n",
            "Epoch 42/100\n",
            "19/19 [==============================] - 4s 189ms/step - loss: 1.9362e-04 - val_loss: 0.0016\n",
            "Epoch 43/100\n",
            "19/19 [==============================] - 4s 192ms/step - loss: 1.7684e-04 - val_loss: 0.0017\n",
            "Epoch 44/100\n",
            "19/19 [==============================] - 4s 191ms/step - loss: 1.6344e-04 - val_loss: 0.0012\n",
            "Epoch 45/100\n",
            "19/19 [==============================] - 4s 189ms/step - loss: 1.6611e-04 - val_loss: 0.0014\n",
            "Epoch 46/100\n",
            "19/19 [==============================] - 4s 189ms/step - loss: 1.7512e-04 - val_loss: 8.7940e-04\n",
            "Epoch 47/100\n",
            "19/19 [==============================] - 4s 190ms/step - loss: 1.5547e-04 - val_loss: 5.6688e-04\n",
            "Epoch 48/100\n",
            "19/19 [==============================] - 4s 187ms/step - loss: 1.4222e-04 - val_loss: 7.0723e-04\n",
            "Epoch 49/100\n",
            "19/19 [==============================] - 4s 189ms/step - loss: 1.5168e-04 - val_loss: 7.2280e-04\n",
            "Epoch 50/100\n",
            "19/19 [==============================] - 4s 186ms/step - loss: 1.6563e-04 - val_loss: 9.5695e-04\n",
            "Epoch 51/100\n",
            "19/19 [==============================] - 4s 188ms/step - loss: 1.4517e-04 - val_loss: 0.0013\n",
            "Epoch 52/100\n",
            "19/19 [==============================] - 4s 185ms/step - loss: 1.4339e-04 - val_loss: 0.0015\n",
            "Epoch 53/100\n",
            "19/19 [==============================] - 3s 185ms/step - loss: 1.4523e-04 - val_loss: 6.7291e-04\n",
            "Epoch 54/100\n",
            "19/19 [==============================] - 4s 188ms/step - loss: 1.4294e-04 - val_loss: 6.4538e-04\n",
            "Epoch 55/100\n",
            "19/19 [==============================] - 4s 187ms/step - loss: 1.3844e-04 - val_loss: 8.6795e-04\n",
            "Epoch 56/100\n",
            "19/19 [==============================] - 4s 189ms/step - loss: 1.4556e-04 - val_loss: 9.1345e-04\n",
            "Epoch 57/100\n",
            "19/19 [==============================] - 4s 194ms/step - loss: 1.3941e-04 - val_loss: 0.0025\n",
            "Epoch 58/100\n",
            "19/19 [==============================] - 4s 187ms/step - loss: 1.5577e-04 - val_loss: 9.7252e-04\n",
            "Epoch 59/100\n",
            "19/19 [==============================] - 4s 188ms/step - loss: 1.3489e-04 - val_loss: 7.1842e-04\n",
            "Epoch 60/100\n",
            "19/19 [==============================] - 4s 187ms/step - loss: 1.2459e-04 - val_loss: 5.8830e-04\n",
            "Epoch 61/100\n",
            "19/19 [==============================] - 4s 187ms/step - loss: 1.3195e-04 - val_loss: 4.6071e-04\n",
            "Epoch 62/100\n",
            "19/19 [==============================] - 4s 189ms/step - loss: 1.2574e-04 - val_loss: 4.0708e-04\n",
            "Epoch 63/100\n",
            "19/19 [==============================] - 4s 186ms/step - loss: 1.4706e-04 - val_loss: 0.0011\n",
            "Epoch 64/100\n",
            "19/19 [==============================] - 4s 188ms/step - loss: 1.3443e-04 - val_loss: 0.0017\n",
            "Epoch 65/100\n",
            "19/19 [==============================] - 4s 194ms/step - loss: 1.3487e-04 - val_loss: 0.0011\n",
            "Epoch 66/100\n",
            "19/19 [==============================] - 4s 187ms/step - loss: 1.2911e-04 - val_loss: 9.8908e-04\n",
            "Epoch 67/100\n",
            "19/19 [==============================] - 4s 187ms/step - loss: 1.1888e-04 - val_loss: 7.7589e-04\n",
            "Epoch 68/100\n",
            "19/19 [==============================] - 4s 186ms/step - loss: 1.1266e-04 - val_loss: 4.0129e-04\n",
            "Epoch 69/100\n",
            "19/19 [==============================] - 3s 185ms/step - loss: 1.1176e-04 - val_loss: 6.4445e-04\n",
            "Epoch 70/100\n",
            "19/19 [==============================] - 4s 188ms/step - loss: 1.0046e-04 - val_loss: 9.7562e-04\n",
            "Epoch 71/100\n",
            "19/19 [==============================] - 4s 186ms/step - loss: 9.6306e-05 - val_loss: 6.4435e-04\n",
            "Epoch 72/100\n",
            "19/19 [==============================] - 4s 187ms/step - loss: 1.0217e-04 - val_loss: 7.4612e-04\n",
            "Epoch 73/100\n",
            "19/19 [==============================] - 4s 186ms/step - loss: 9.6703e-05 - val_loss: 3.5698e-04\n",
            "Epoch 74/100\n",
            "19/19 [==============================] - 4s 187ms/step - loss: 1.0637e-04 - val_loss: 3.5252e-04\n",
            "Epoch 75/100\n",
            "19/19 [==============================] - 4s 190ms/step - loss: 1.0499e-04 - val_loss: 3.9682e-04\n",
            "Epoch 76/100\n",
            "19/19 [==============================] - 4s 187ms/step - loss: 1.0463e-04 - val_loss: 3.2364e-04\n",
            "Epoch 77/100\n",
            "19/19 [==============================] - 3s 184ms/step - loss: 9.7522e-05 - val_loss: 3.2391e-04\n",
            "Epoch 78/100\n",
            "19/19 [==============================] - 3s 186ms/step - loss: 9.8684e-05 - val_loss: 4.4777e-04\n",
            "Epoch 79/100\n",
            "19/19 [==============================] - 3s 186ms/step - loss: 9.5978e-05 - val_loss: 5.0470e-04\n",
            "Epoch 80/100\n",
            "19/19 [==============================] - 4s 189ms/step - loss: 9.8856e-05 - val_loss: 9.8801e-04\n",
            "Epoch 81/100\n",
            "19/19 [==============================] - 4s 188ms/step - loss: 1.1580e-04 - val_loss: 7.3071e-04\n",
            "Epoch 82/100\n",
            "19/19 [==============================] - 3s 184ms/step - loss: 9.4114e-05 - val_loss: 6.6414e-04\n",
            "Epoch 83/100\n",
            "19/19 [==============================] - 4s 186ms/step - loss: 9.7387e-05 - val_loss: 3.6784e-04\n",
            "Epoch 84/100\n",
            "19/19 [==============================] - 3s 185ms/step - loss: 8.2252e-05 - val_loss: 4.8407e-04\n",
            "Epoch 85/100\n",
            "19/19 [==============================] - 4s 190ms/step - loss: 8.3449e-05 - val_loss: 5.1445e-04\n",
            "Epoch 86/100\n",
            "19/19 [==============================] - 3s 182ms/step - loss: 9.6205e-05 - val_loss: 6.4438e-04\n",
            "Epoch 87/100\n",
            "19/19 [==============================] - 4s 188ms/step - loss: 8.9403e-05 - val_loss: 3.7324e-04\n",
            "Epoch 88/100\n",
            "19/19 [==============================] - 4s 188ms/step - loss: 8.9028e-05 - val_loss: 3.1585e-04\n",
            "Epoch 89/100\n",
            "19/19 [==============================] - 3s 185ms/step - loss: 8.9184e-05 - val_loss: 4.7214e-04\n",
            "Epoch 90/100\n",
            "19/19 [==============================] - 4s 187ms/step - loss: 7.7016e-05 - val_loss: 2.7603e-04\n",
            "Epoch 91/100\n",
            "19/19 [==============================] - 3s 184ms/step - loss: 8.3587e-05 - val_loss: 4.0692e-04\n",
            "Epoch 92/100\n",
            "19/19 [==============================] - 4s 187ms/step - loss: 7.7246e-05 - val_loss: 4.4621e-04\n",
            "Epoch 93/100\n",
            "19/19 [==============================] - 4s 187ms/step - loss: 7.4126e-05 - val_loss: 4.5475e-04\n",
            "Epoch 94/100\n",
            "19/19 [==============================] - 4s 188ms/step - loss: 7.2543e-05 - val_loss: 2.6144e-04\n",
            "Epoch 95/100\n",
            "19/19 [==============================] - 4s 187ms/step - loss: 7.8353e-05 - val_loss: 6.6050e-04\n",
            "Epoch 96/100\n",
            "19/19 [==============================] - 4s 194ms/step - loss: 8.2547e-05 - val_loss: 4.0856e-04\n",
            "Epoch 97/100\n",
            "19/19 [==============================] - 4s 195ms/step - loss: 7.1094e-05 - val_loss: 4.8681e-04\n",
            "Epoch 98/100\n",
            "19/19 [==============================] - 4s 202ms/step - loss: 8.9688e-05 - val_loss: 4.5211e-04\n",
            "Epoch 99/100\n",
            "19/19 [==============================] - 4s 191ms/step - loss: 8.9257e-05 - val_loss: 2.4426e-04\n",
            "Epoch 100/100\n",
            "19/19 [==============================] - 4s 187ms/step - loss: 7.7333e-05 - val_loss: 5.8488e-04\n"
          ],
          "name": "stdout"
        },
        {
          "output_type": "execute_result",
          "data": {
            "text/plain": [
              "<tensorflow.python.keras.callbacks.History at 0x7f1e25cc7208>"
            ]
          },
          "metadata": {
            "tags": []
          },
          "execution_count": 59
        }
      ]
    },
    {
      "cell_type": "code",
      "metadata": {
        "id": "ZZsVwnK2thkh"
      },
      "source": [
        "# Let do the prediction and check performance matrics\r\n",
        "train_predict=model.predict(x_train)\r\n",
        "test_predict=model.predict(x_test)\r\n"
      ],
      "execution_count": null,
      "outputs": []
    },
    {
      "cell_type": "code",
      "metadata": {
        "id": "wg2aTHj5vmHQ"
      },
      "source": [
        "train_predict=scalar.inverse_transform(train_predict)\r\n",
        "test_predict=scalar.inverse_transform(test_predict)"
      ],
      "execution_count": null,
      "outputs": []
    },
    {
      "cell_type": "code",
      "metadata": {
        "colab": {
          "base_uri": "https://localhost:8080/"
        },
        "id": "GFu5-vm4v8ox",
        "outputId": "bd7cb2d6-d2b4-4fd7-c69a-de57a0948090"
      },
      "source": [
        "#### Calculate RMSE performance metrics\r\n",
        "math.sqrt(mean_squared_error(y_train,train_predict))\r\n"
      ],
      "execution_count": null,
      "outputs": [
        {
          "output_type": "execute_result",
          "data": {
            "text/plain": [
              "1384.2966620070827"
            ]
          },
          "metadata": {
            "tags": []
          },
          "execution_count": 67
        }
      ]
    },
    {
      "cell_type": "code",
      "metadata": {
        "colab": {
          "base_uri": "https://localhost:8080/"
        },
        "id": "uf3iuGxbwmWi",
        "outputId": "b7aa5da8-57d2-4bed-916b-9fcca36205e3"
      },
      "source": [
        "### Test Data RMSE\r\n",
        "math.sqrt(mean_squared_error(y_test,test_predict))\r\n"
      ],
      "execution_count": null,
      "outputs": [
        {
          "output_type": "execute_result",
          "data": {
            "text/plain": [
              "2663.4189512007138"
            ]
          },
          "metadata": {
            "tags": []
          },
          "execution_count": 69
        }
      ]
    },
    {
      "cell_type": "code",
      "metadata": {
        "id": "NA34VlkKwzki"
      },
      "source": [
        "## Map\r\n"
      ],
      "execution_count": null,
      "outputs": []
    }
  ]
}